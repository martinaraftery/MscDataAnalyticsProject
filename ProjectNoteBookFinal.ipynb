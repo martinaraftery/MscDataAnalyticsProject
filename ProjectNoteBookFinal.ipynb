{
 "cells": [
  {
   "cell_type": "markdown",
   "metadata": {},
   "source": [
    "# Msc in Data Analytics Project\n",
    "\n",
    "Title: Analysis and Prediction of New Business Customers in the Auto Insurance Industry\n",
    "\n",
    "Martina Raftery ID: 95549234\n",
    "\n",
    "The following notebook contains all the code required to carry out the research for this project."
   ]
  },
  {
   "cell_type": "markdown",
   "metadata": {},
   "source": [
    "## Part 1 Raw Data Collection\n",
    "<div class=\"alert alert-block alert-info\">\n",
    "    XML is transformed using xslt files and added to Panda's dataframe and then written out to csv files.\n",
    "    This part of the notebook was run on the insurance company servers due to data security reasons and customer\n",
    "    Personally Identifiable Information contained in the data.  Due to the data being business sensitive, \n",
    "    I was unable to display the results of this section in the notebook. \n",
    "</div>\n",
    "\n",
    "XML data comprised of request and response files.  \n",
    "Request files contained 3 distinct sections (summary, driver and vehicle) which are transformed to 3 csv files.   \n",
    "Response files transformed in to seperate csv file\n"
   ]
  },
  {
   "cell_type": "code",
   "execution_count": null,
   "metadata": {},
   "outputs": [],
   "source": [
    "# Load Libraries\n",
    "import os\n",
    "import lxml.etree as et\n",
    "import pandas as pd\n",
    "\n",
    "# Get working directory\n",
    "workingDir = os.getcwd()\n",
    "\n",
    "# Get file directories\n",
    "xsltDir = workingDir + '\\XSLT'\n",
    "xmlDir = 'C:\\work\\RaterXMLFiles'"
   ]
  },
  {
   "cell_type": "code",
   "execution_count": null,
   "metadata": {},
   "outputs": [],
   "source": [
    "# Define functions\n",
    "# function to build up the list of XML files to be converted per state \n",
    "def getListOfFilesPerState(state, requestOrResponse):\n",
    "    returnList = []\n",
    "    list_of_files = os.listdir(xmlDir) \n",
    "    for each_file in list_of_files:\n",
    "        if each_file.startswith(state) and requestOrResponse in each_file:  \n",
    "            returnList.append(each_file)\n",
    "    return returnList\n",
    "\n",
    "# function to build up the list of response XML files\n",
    "def getListOfResponseFiles(response):\n",
    "    returnList = []\n",
    "    list_of_files = os.listdir(xmlDir) \n",
    "    for each_file in list_of_files:\n",
    "        if response in each_file:  \n",
    "            returnList.append(each_file)\n",
    "    return returnList\n",
    "\n",
    "# function to convert the XMLs to panda dataframes\n",
    "def convertXMLToPanda(listOfFiles, xsltFile):   \n",
    "    \n",
    "    summaryData = []\n",
    "    driverData = []\n",
    "    vehicleData = []\n",
    "\n",
    "    dfSummaryl = pd.DataFrame()\n",
    "    dfDriverl = pd.DataFrame()\n",
    "    dfVehiclel = pd.DataFrame()\n",
    "    \n",
    "    for file in listOfFiles:        \n",
    "        xml = et.parse(xmlDir + '/' + file, parser = et.XMLParser(recover=True))        \n",
    "        xsl = et.parse(xsltFile)        \n",
    "\n",
    "        # transform the XML using xsl\n",
    "        transform = et.XSLT(xsl)    \n",
    "        result = transform(xml)\n",
    "            \n",
    "        # iterate through the roots children (Summary)\n",
    "        for summary in result.xpath('//Summary'):    \n",
    "            SummmaryClient = {}        \n",
    "            # iterate through the roots descendants per child\n",
    "            for elem in summary.xpath('//*'):       \n",
    "                if (elem.tag == \"RTRRefNo\"):\n",
    "                    refNo = elem.text\n",
    "                if elem.tag == \"Driver\":\n",
    "                    break;\n",
    "                elif elem is not None:   \n",
    "                    SummmaryClient[elem.tag] = elem.text                \n",
    "                SummmaryClient['FileName'] = file[19:-4]\n",
    "            summaryData.append(SummmaryClient)\n",
    "                         \n",
    "        dfSummaryl = dfSummaryl.append(summaryData)       \n",
    "        summaryData = []\n",
    "            \n",
    "        # iterate through the roots children (Driver)\n",
    "        for driver in result.xpath('//Driver'):     \n",
    "            driverList = {}  \n",
    "            # iterate through the roots descendants per child\n",
    "            for elem in driver:            \n",
    "                if elem is not None:   \n",
    "                    driverList[elem.tag] = elem.text\n",
    "            driverList['RTRRefNo'] = refNo  \n",
    "            driverList['FileName'] = file[19:-4]\n",
    "            driverData.append(driverList)\n",
    "        \n",
    "        dfDriverl = dfDriverl.append(driverData)\n",
    "        driverData = []\n",
    "          \n",
    "        # iterate through the roots children (Vehicle)    \n",
    "        for vehicle in result.xpath('//Vehicle'):    \n",
    "            vehList = {}    \n",
    "            # iterate through the roots descendants per child\n",
    "            for elem in vehicle:       \n",
    "                if elem is not None:   \n",
    "                    vehList[elem.tag] = elem.text\n",
    "            vehList['RTRRefNo'] = refNo \n",
    "            vehList['FileName'] = file[19:-4]\n",
    "            vehicleData.append(vehList)\n",
    "        \n",
    "        dfVehiclel = dfVehiclel.append(vehicleData)\n",
    "        vehicleData = []\n",
    "\n",
    "    return dfSummaryl, dfDriverl, dfVehiclel\n",
    "\n",
    "# function to get the xslt filename per state\n",
    "def getXsltFileName(state):\n",
    "    fileName = 'acord-itc-' + state.lower() + '.xslt'    \n",
    "    return xsltDir + '\\\\' + fileName"
   ]
  },
  {
   "cell_type": "code",
   "execution_count": null,
   "metadata": {},
   "outputs": [],
   "source": [
    "# Get Request Data\n",
    "refNo = 0\n",
    "dfSummary = pd.DataFrame()\n",
    "dfDriver = pd.DataFrame()\n",
    "dfVehicle = pd.DataFrame()\n",
    "\n",
    "# list of states that rater writes business in\n",
    "listOfStatesRater = ['AL','AZ','CA','CO', 'GA', 'IL', 'LA', 'MS', 'NM', 'TN', 'TX']\n",
    "\n",
    "# loop through each state and transform the xml for that state\n",
    "for state in listOfStatesRater:        \n",
    "    allDataFrames = convertXMLToPanda(getListOfFilesPerState(state, 'Request'),getXsltFileName(state))\n",
    "    dfSummary = dfSummary.append(allDataFrames[0])\n",
    "    dfDriver = dfDriver.append(allDataFrames[1])\n",
    "    dfVehicle = dfVehicle.append(allDataFrames[2])    \n",
    "\n",
    "dfSummary = dfSummary.reset_index(drop=True)\n",
    "dfDriver = dfDriver.reset_index(drop=True)\n",
    "dfVehicle = dfVehicle.reset_index(drop=True)\n",
    "\n",
    "# write pandas to csv \n",
    "dfSummary.to_csv('Results\\outputSummary.csv')\n",
    "dfDriver.to_csv('Results\\outputDriver.csv')\n",
    "dfVehicle.to_csv('Results\\outputVehicle.csv')\n",
    "\n",
    "# Get Response Data\n",
    "dfResponse = pd.DataFrame()\n",
    "# get list of response files\n",
    "list_of_files = getListOfResponseFiles('Response')\n",
    "for each_file in list_of_files:\n",
    "    tree = et.parse(xmlDir + '/' + each_file, parser = et.XMLParser(encoding=\"utf-8\"))      \n",
    "    for node in tree.xpath(\"//InsuranceSvcRs/Status/StatusCd\"):\n",
    "        if node is not None: \n",
    "            status = node.text  \n",
    "\n",
    "    # extract the RTR reference no\n",
    "    for node in tree.xpath(\"//InsuranceSvcRs/RqUID\"):   \n",
    "        if node is not None: \n",
    "            refNo = node.text  \n",
    "    \n",
    "    # extract the transaction date/time\n",
    "    transDateTime = \"\"\n",
    "    for node in tree.xpath(\"//InsuranceSvcRs/PersAutoPolicyQuoteInqRs/TransactionResponseDt\"):\n",
    "        if node is not None: \n",
    "            transDateTime = node.text\n",
    "\n",
    "    # extract the premium details\n",
    "    fullTermAmt = 0\n",
    "    for node in tree.xpath(\"//InsuranceSvcRs/PersAutoPolicyQuoteInqRs/PersPolicy/PolicySummaryInfo/FullTermAmt/Amt\"):   \n",
    "        if node is not None: \n",
    "            fullTermAmt = node.text             \n",
    "    \n",
    "    # extract the log message - contains informational message if underwriting rules are broken\n",
    "    probLog = \"\"        \n",
    "    for node in tree.xpath(\"//InsuranceSvcRs/PersAutoPolicyQuoteInqRs/PersPolicy/RemarkText/ProbLog\"):\n",
    "        if node is not None:   \n",
    "            probLog = node.text         \n",
    "    \n",
    "    # extract vehicle details\n",
    "    vehdict = {}    \n",
    "    for node in tree.xpath(\"//InsuranceSvcRs/PersAutoPolicyQuoteInqRs/PersPolicy/PersAutoLineBusiness/PersVeh\"):  \n",
    "        for elem in node.getchildren():\n",
    "            if elem.tag in ['Manufacturer', 'Model', 'ModelYear', 'VehRatedOperator']:\n",
    "                if not elem.text:\n",
    "                    text = \"None\"\n",
    "                else:\n",
    "                    text = elem.text\n",
    "                vehdict[elem.tag] = text  \n",
    "                \n",
    "        vehNumber = node.attrib.get(\"id\")\n",
    "        dfResponse = dfResponse.append({\"RefNo\":refNo, \"Status\": status, \"FullTermAmt\":fullTermAmt, \n",
    "                                        \"TransDateTime\":transDateTime,  \"LogMessage\":probLog, \"FileName\":each_file[20:-4],\n",
    "                                        \"VehID\":vehNumber, \"VehMake\":vehdict[\"Manufacturer\"], \"VehModel\":vehdict[\"Model\"],\n",
    "                                        \"VehYear\":vehdict[\"ModelYear\"], \"VehRatedOperator\":vehdict[\"VehRatedOperator\"],\n",
    "                                        }, ignore_index=True)\n",
    "    # if there is an error the vehicle details do not exist. This section caters for this.\n",
    "    res = not vehdict                                 \n",
    "    if str(res) == 'True':    \n",
    "        dfResponse = dfResponse.append({\"RefNo\":refNo, \n",
    "                                        \"Status\": status, \n",
    "                                        \"FullTermAmt\":fullTermAmt, \n",
    "                                        \"TransDateTime\":transDateTime,  \n",
    "                                        \"LogMessage\":probLog, \n",
    "                                        \"FileName\":each_file[20:-4]}, ignore_index=True)\n",
    "\n",
    "# write response data to csv file\n",
    "dfResponse.to_csv('Results\\outputResponse.csv')\n"
   ]
  },
  {
   "cell_type": "markdown",
   "metadata": {},
   "source": [
    "## Part 2 Create dataset\n",
    "<div class=\"alert alert-block alert-info\">\n",
    "    Request and Response data from above is merged together to create one data frame\n",
    "</div>\n",
    "\n"
   ]
  },
  {
   "cell_type": "code",
   "execution_count": 1,
   "metadata": {},
   "outputs": [
    {
     "name": "stdout",
     "output_type": "stream",
     "text": [
      "Shape of Summary DataFrame: (74659, 22)\n"
     ]
    },
    {
     "data": {
      "text/html": [
       "<div>\n",
       "<style scoped>\n",
       "    .dataframe tbody tr th:only-of-type {\n",
       "        vertical-align: middle;\n",
       "    }\n",
       "\n",
       "    .dataframe tbody tr th {\n",
       "        vertical-align: top;\n",
       "    }\n",
       "\n",
       "    .dataframe thead th {\n",
       "        text-align: right;\n",
       "    }\n",
       "</style>\n",
       "<table border=\"1\" class=\"dataframe\">\n",
       "  <thead>\n",
       "    <tr style=\"text-align: right;\">\n",
       "      <th></th>\n",
       "      <th>FileName</th>\n",
       "      <th>RTRRefNo</th>\n",
       "      <th>BICoverageRTR</th>\n",
       "      <th>PDCoverageRTR</th>\n",
       "      <th>UMCoverageRTR</th>\n",
       "      <th>MPCoverageRTR</th>\n",
       "      <th>City</th>\n",
       "      <th>County</th>\n",
       "      <th>State</th>\n",
       "      <th>PostalCode</th>\n",
       "      <th>...</th>\n",
       "      <th>PriorInsDurationRater</th>\n",
       "      <th>BillType</th>\n",
       "      <th>PolicyTermRTR</th>\n",
       "      <th>ExDrvNo</th>\n",
       "      <th>RqUID</th>\n",
       "      <th>PersAutoRqUID</th>\n",
       "      <th>UDCoverageRTR</th>\n",
       "      <th>PunCoverage</th>\n",
       "      <th>UICoverageRTR</th>\n",
       "      <th>PICoverageRTR</th>\n",
       "    </tr>\n",
       "  </thead>\n",
       "  <tbody>\n",
       "    <tr>\n",
       "      <th>62888</th>\n",
       "      <td>139351A770852FE5A89847A3A567320D03269B38EFE9F2...</td>\n",
       "      <td>71511E45-0B3C-49E9-B638-634470E1D1E1</td>\n",
       "      <td>D5</td>\n",
       "      <td>C5</td>\n",
       "      <td>A0</td>\n",
       "      <td>A0</td>\n",
       "      <td>MAGNOLIA</td>\n",
       "      <td>MONTGOMERY</td>\n",
       "      <td>TX</td>\n",
       "      <td>77354</td>\n",
       "      <td>...</td>\n",
       "      <td>6.0</td>\n",
       "      <td>D</td>\n",
       "      <td>6M</td>\n",
       "      <td>8.0</td>\n",
       "      <td>NaN</td>\n",
       "      <td>NaN</td>\n",
       "      <td>A0</td>\n",
       "      <td>NaN</td>\n",
       "      <td>NaN</td>\n",
       "      <td>A0</td>\n",
       "    </tr>\n",
       "  </tbody>\n",
       "</table>\n",
       "<p>1 rows × 22 columns</p>\n",
       "</div>"
      ],
      "text/plain": [
       "                                                FileName  \\\n",
       "62888  139351A770852FE5A89847A3A567320D03269B38EFE9F2...   \n",
       "\n",
       "                                   RTRRefNo BICoverageRTR PDCoverageRTR  \\\n",
       "62888  71511E45-0B3C-49E9-B638-634470E1D1E1            D5            C5   \n",
       "\n",
       "      UMCoverageRTR MPCoverageRTR      City      County State PostalCode  ...  \\\n",
       "62888            A0            A0  MAGNOLIA  MONTGOMERY    TX      77354  ...   \n",
       "\n",
       "      PriorInsDurationRater BillType  PolicyTermRTR ExDrvNo RqUID  \\\n",
       "62888                   6.0        D             6M     8.0   NaN   \n",
       "\n",
       "       PersAutoRqUID UDCoverageRTR PunCoverage UICoverageRTR PICoverageRTR  \n",
       "62888            NaN            A0         NaN           NaN            A0  \n",
       "\n",
       "[1 rows x 22 columns]"
      ]
     },
     "execution_count": 1,
     "metadata": {},
     "output_type": "execute_result"
    }
   ],
   "source": [
    "# import libraries\n",
    "import pandas as pd\n",
    "import os\n",
    "from datetime import date\n",
    "import seaborn as sns\n",
    "import matplotlib.pyplot as plt\n",
    "import numpy as np\n",
    "\n",
    "# set a muted paletter for seaborn visualisations later in notebook\n",
    "sns.set_palette(\"muted\")\n",
    "\n",
    "# for testing set FileName to investigate\n",
    "testFileName = '139351A770852FE5A89847A3A567320D03269B38EFE9F2B7156425A948A3C59F04E8780351EC72106DD2884448A4409F'\n",
    "\n",
    "# Read summary data into dataframe\n",
    "summaryData = pd.read_csv(\"Results\\outputSummary.csv\", low_memory=False, index_col=[0]) \n",
    "\n",
    "# Rename fileName to FileName (to match other dataframes)\n",
    "summaryData = summaryData.rename(columns={\"fileName\": \"FileName\"})\n",
    "\n",
    "# print shape of DataFrame\n",
    "print(\"Shape of Summary DataFrame: \" + str(summaryData.shape))\n",
    "\n",
    "# display one row\n",
    "summaryData.loc[summaryData['FileName']==testFileName]\n"
   ]
  },
  {
   "cell_type": "code",
   "execution_count": 2,
   "metadata": {},
   "outputs": [
    {
     "name": "stdout",
     "output_type": "stream",
     "text": [
      "Shape of Driver DataFrame: (102342, 25)\n"
     ]
    },
    {
     "data": {
      "text/html": [
       "<div>\n",
       "<style scoped>\n",
       "    .dataframe tbody tr th:only-of-type {\n",
       "        vertical-align: middle;\n",
       "    }\n",
       "\n",
       "    .dataframe tbody tr th {\n",
       "        vertical-align: top;\n",
       "    }\n",
       "\n",
       "    .dataframe thead th {\n",
       "        text-align: right;\n",
       "    }\n",
       "</style>\n",
       "<table border=\"1\" class=\"dataframe\">\n",
       "  <thead>\n",
       "    <tr style=\"text-align: right;\">\n",
       "      <th></th>\n",
       "      <th>DrvNo</th>\n",
       "      <th>DrvDOB</th>\n",
       "      <th>DrvSex</th>\n",
       "      <th>DrvMar</th>\n",
       "      <th>DrvLicJur</th>\n",
       "      <th>DrvGoodStudent</th>\n",
       "      <th>DrvLicType</th>\n",
       "      <th>DrvSWLicStatus</th>\n",
       "      <th>RaterYrsLicensed</th>\n",
       "      <th>DrvLicTypeRater</th>\n",
       "      <th>...</th>\n",
       "      <th>RTRRefNo</th>\n",
       "      <th>FileName</th>\n",
       "      <th>DrvStatus</th>\n",
       "      <th>DrvLicDate</th>\n",
       "      <th>ForeignRaterYrLicensed</th>\n",
       "      <th>DrvForeignLicYears</th>\n",
       "      <th>DrvForeignLicMonths</th>\n",
       "      <th>DrvHomeOwner</th>\n",
       "      <th>DrvFRStatusReasonRater</th>\n",
       "      <th>DrvActiveMilitary</th>\n",
       "    </tr>\n",
       "  </thead>\n",
       "  <tbody>\n",
       "    <tr>\n",
       "      <th>85285</th>\n",
       "      <td>1</td>\n",
       "      <td>20/03/1992</td>\n",
       "      <td>F</td>\n",
       "      <td>M</td>\n",
       "      <td>TX</td>\n",
       "      <td>N</td>\n",
       "      <td>LI</td>\n",
       "      <td>V</td>\n",
       "      <td>NaN</td>\n",
       "      <td>LICENSE</td>\n",
       "      <td>...</td>\n",
       "      <td>71511E45-0B3C-49E9-B638-634470E1D1E1</td>\n",
       "      <td>139351A770852FE5A89847A3A567320D03269B38EFE9F2...</td>\n",
       "      <td>NaN</td>\n",
       "      <td>NaN</td>\n",
       "      <td>NaN</td>\n",
       "      <td>NaN</td>\n",
       "      <td>NaN</td>\n",
       "      <td>N</td>\n",
       "      <td>NaN</td>\n",
       "      <td>N</td>\n",
       "    </tr>\n",
       "    <tr>\n",
       "      <th>85286</th>\n",
       "      <td>2</td>\n",
       "      <td>17/10/1989</td>\n",
       "      <td>M</td>\n",
       "      <td>M</td>\n",
       "      <td>TX</td>\n",
       "      <td>N</td>\n",
       "      <td>IT</td>\n",
       "      <td>NaN</td>\n",
       "      <td>NaN</td>\n",
       "      <td>INTERNATIONAL</td>\n",
       "      <td>...</td>\n",
       "      <td>71511E45-0B3C-49E9-B638-634470E1D1E1</td>\n",
       "      <td>139351A770852FE5A89847A3A567320D03269B38EFE9F2...</td>\n",
       "      <td>NaN</td>\n",
       "      <td>NaN</td>\n",
       "      <td>NaN</td>\n",
       "      <td>NaN</td>\n",
       "      <td>NaN</td>\n",
       "      <td>N</td>\n",
       "      <td>NaN</td>\n",
       "      <td>N</td>\n",
       "    </tr>\n",
       "    <tr>\n",
       "      <th>85287</th>\n",
       "      <td>3</td>\n",
       "      <td>27/12/1963</td>\n",
       "      <td>F</td>\n",
       "      <td>M</td>\n",
       "      <td>TX</td>\n",
       "      <td>N</td>\n",
       "      <td>IT</td>\n",
       "      <td>NaN</td>\n",
       "      <td>NaN</td>\n",
       "      <td>INTERNATIONAL</td>\n",
       "      <td>...</td>\n",
       "      <td>71511E45-0B3C-49E9-B638-634470E1D1E1</td>\n",
       "      <td>139351A770852FE5A89847A3A567320D03269B38EFE9F2...</td>\n",
       "      <td>NaN</td>\n",
       "      <td>NaN</td>\n",
       "      <td>NaN</td>\n",
       "      <td>NaN</td>\n",
       "      <td>NaN</td>\n",
       "      <td>N</td>\n",
       "      <td>NaN</td>\n",
       "      <td>N</td>\n",
       "    </tr>\n",
       "    <tr>\n",
       "      <th>85288</th>\n",
       "      <td>4</td>\n",
       "      <td>05/04/1997</td>\n",
       "      <td>M</td>\n",
       "      <td>S</td>\n",
       "      <td>TX</td>\n",
       "      <td>N</td>\n",
       "      <td>LI</td>\n",
       "      <td>V</td>\n",
       "      <td>NaN</td>\n",
       "      <td>LICENSE</td>\n",
       "      <td>...</td>\n",
       "      <td>71511E45-0B3C-49E9-B638-634470E1D1E1</td>\n",
       "      <td>139351A770852FE5A89847A3A567320D03269B38EFE9F2...</td>\n",
       "      <td>NaN</td>\n",
       "      <td>NaN</td>\n",
       "      <td>NaN</td>\n",
       "      <td>NaN</td>\n",
       "      <td>NaN</td>\n",
       "      <td>N</td>\n",
       "      <td>NaN</td>\n",
       "      <td>N</td>\n",
       "    </tr>\n",
       "  </tbody>\n",
       "</table>\n",
       "<p>4 rows × 25 columns</p>\n",
       "</div>"
      ],
      "text/plain": [
       "       DrvNo      DrvDOB DrvSex DrvMar DrvLicJur DrvGoodStudent DrvLicType  \\\n",
       "85285      1  20/03/1992      F      M        TX              N         LI   \n",
       "85286      2  17/10/1989      M      M        TX              N         IT   \n",
       "85287      3  27/12/1963      F      M        TX              N         IT   \n",
       "85288      4  05/04/1997      M      S        TX              N         LI   \n",
       "\n",
       "      DrvSWLicStatus  RaterYrsLicensed DrvLicTypeRater  ...  \\\n",
       "85285              V               NaN         LICENSE  ...   \n",
       "85286            NaN               NaN   INTERNATIONAL  ...   \n",
       "85287            NaN               NaN   INTERNATIONAL  ...   \n",
       "85288              V               NaN         LICENSE  ...   \n",
       "\n",
       "                                   RTRRefNo  \\\n",
       "85285  71511E45-0B3C-49E9-B638-634470E1D1E1   \n",
       "85286  71511E45-0B3C-49E9-B638-634470E1D1E1   \n",
       "85287  71511E45-0B3C-49E9-B638-634470E1D1E1   \n",
       "85288  71511E45-0B3C-49E9-B638-634470E1D1E1   \n",
       "\n",
       "                                                FileName DrvStatus DrvLicDate  \\\n",
       "85285  139351A770852FE5A89847A3A567320D03269B38EFE9F2...       NaN        NaN   \n",
       "85286  139351A770852FE5A89847A3A567320D03269B38EFE9F2...       NaN        NaN   \n",
       "85287  139351A770852FE5A89847A3A567320D03269B38EFE9F2...       NaN        NaN   \n",
       "85288  139351A770852FE5A89847A3A567320D03269B38EFE9F2...       NaN        NaN   \n",
       "\n",
       "       ForeignRaterYrLicensed DrvForeignLicYears DrvForeignLicMonths  \\\n",
       "85285                     NaN                NaN                 NaN   \n",
       "85286                     NaN                NaN                 NaN   \n",
       "85287                     NaN                NaN                 NaN   \n",
       "85288                     NaN                NaN                 NaN   \n",
       "\n",
       "      DrvHomeOwner DrvFRStatusReasonRater  DrvActiveMilitary  \n",
       "85285            N                    NaN                  N  \n",
       "85286            N                    NaN                  N  \n",
       "85287            N                    NaN                  N  \n",
       "85288            N                    NaN                  N  \n",
       "\n",
       "[4 rows x 25 columns]"
      ]
     },
     "metadata": {},
     "output_type": "display_data"
    }
   ],
   "source": [
    "# Read driver data into dataframe\n",
    "driverData = pd.read_csv(\"Results\\outputDriver.csv\", low_memory=False, index_col=[0])\n",
    "\n",
    "# print shape of DataFrame\n",
    "print(\"Shape of Driver DataFrame: \" + str(driverData.shape))\n",
    "\n",
    "# display one RTR quote's data\n",
    "display(driverData.loc[driverData['FileName']==testFileName])\n"
   ]
  },
  {
   "cell_type": "code",
   "execution_count": 3,
   "metadata": {},
   "outputs": [
    {
     "name": "stdout",
     "output_type": "stream",
     "text": [
      "Shape of Vehicle DataFrame:(102434, 27)\n"
     ]
    },
    {
     "data": {
      "text/html": [
       "<div>\n",
       "<style scoped>\n",
       "    .dataframe tbody tr th:only-of-type {\n",
       "        vertical-align: middle;\n",
       "    }\n",
       "\n",
       "    .dataframe tbody tr th {\n",
       "        vertical-align: top;\n",
       "    }\n",
       "\n",
       "    .dataframe thead th {\n",
       "        text-align: right;\n",
       "    }\n",
       "</style>\n",
       "<table border=\"1\" class=\"dataframe\">\n",
       "  <thead>\n",
       "    <tr style=\"text-align: right;\">\n",
       "      <th></th>\n",
       "      <th>VehNo</th>\n",
       "      <th>VehMake</th>\n",
       "      <th>VehModel</th>\n",
       "      <th>VehYear</th>\n",
       "      <th>VehUse</th>\n",
       "      <th>VehAnnMiles</th>\n",
       "      <th>VehOdis</th>\n",
       "      <th>VehCustMod</th>\n",
       "      <th>CPCoverageRTR</th>\n",
       "      <th>CLCoverageRTR</th>\n",
       "      <th>...</th>\n",
       "      <th>VehCityFirst</th>\n",
       "      <th>VehLien</th>\n",
       "      <th>VehSymbolRaterNum</th>\n",
       "      <th>RTRRefNo</th>\n",
       "      <th>FileName</th>\n",
       "      <th>CWCoverageRTR</th>\n",
       "      <th>UDCoverage</th>\n",
       "      <th>VehSalvaged</th>\n",
       "      <th>UDCoverageRTR</th>\n",
       "      <th>VehVinEtch</th>\n",
       "    </tr>\n",
       "  </thead>\n",
       "  <tbody>\n",
       "    <tr>\n",
       "      <th>85738</th>\n",
       "      <td>1</td>\n",
       "      <td>FORD</td>\n",
       "      <td>EXPLORER XLT</td>\n",
       "      <td>2012</td>\n",
       "      <td>W</td>\n",
       "      <td>8000</td>\n",
       "      <td>0</td>\n",
       "      <td>N</td>\n",
       "      <td>E6</td>\n",
       "      <td>D6</td>\n",
       "      <td>...</td>\n",
       "      <td>MAGNOLIA</td>\n",
       "      <td>NaN</td>\n",
       "      <td>2721.0</td>\n",
       "      <td>71511E45-0B3C-49E9-B638-634470E1D1E1</td>\n",
       "      <td>139351A770852FE5A89847A3A567320D03269B38EFE9F2...</td>\n",
       "      <td>NaN</td>\n",
       "      <td>NaN</td>\n",
       "      <td>N</td>\n",
       "      <td>NaN</td>\n",
       "      <td>NaN</td>\n",
       "    </tr>\n",
       "    <tr>\n",
       "      <th>85739</th>\n",
       "      <td>2</td>\n",
       "      <td>GMC</td>\n",
       "      <td>SIERRA C1500</td>\n",
       "      <td>2007</td>\n",
       "      <td>W</td>\n",
       "      <td>8000</td>\n",
       "      <td>0</td>\n",
       "      <td>N</td>\n",
       "      <td>A0</td>\n",
       "      <td>A0</td>\n",
       "      <td>...</td>\n",
       "      <td>MAGNOLIA</td>\n",
       "      <td>NaN</td>\n",
       "      <td>15.0</td>\n",
       "      <td>71511E45-0B3C-49E9-B638-634470E1D1E1</td>\n",
       "      <td>139351A770852FE5A89847A3A567320D03269B38EFE9F2...</td>\n",
       "      <td>NaN</td>\n",
       "      <td>NaN</td>\n",
       "      <td>N</td>\n",
       "      <td>NaN</td>\n",
       "      <td>NaN</td>\n",
       "    </tr>\n",
       "    <tr>\n",
       "      <th>85740</th>\n",
       "      <td>3</td>\n",
       "      <td>TOYOTA</td>\n",
       "      <td>SCION XB</td>\n",
       "      <td>2006</td>\n",
       "      <td>W</td>\n",
       "      <td>8000</td>\n",
       "      <td>0</td>\n",
       "      <td>N</td>\n",
       "      <td>A0</td>\n",
       "      <td>A0</td>\n",
       "      <td>...</td>\n",
       "      <td>MAGNOLIA</td>\n",
       "      <td>NaN</td>\n",
       "      <td>15.0</td>\n",
       "      <td>71511E45-0B3C-49E9-B638-634470E1D1E1</td>\n",
       "      <td>139351A770852FE5A89847A3A567320D03269B38EFE9F2...</td>\n",
       "      <td>NaN</td>\n",
       "      <td>NaN</td>\n",
       "      <td>N</td>\n",
       "      <td>NaN</td>\n",
       "      <td>NaN</td>\n",
       "    </tr>\n",
       "    <tr>\n",
       "      <th>85741</th>\n",
       "      <td>4</td>\n",
       "      <td>GMC</td>\n",
       "      <td>SIERRA C1500 SLT</td>\n",
       "      <td>2015</td>\n",
       "      <td>W</td>\n",
       "      <td>8000</td>\n",
       "      <td>0</td>\n",
       "      <td>N</td>\n",
       "      <td>E6</td>\n",
       "      <td>D6</td>\n",
       "      <td>...</td>\n",
       "      <td>MAGNOLIA</td>\n",
       "      <td>NaN</td>\n",
       "      <td>2632.0</td>\n",
       "      <td>71511E45-0B3C-49E9-B638-634470E1D1E1</td>\n",
       "      <td>139351A770852FE5A89847A3A567320D03269B38EFE9F2...</td>\n",
       "      <td>NaN</td>\n",
       "      <td>NaN</td>\n",
       "      <td>N</td>\n",
       "      <td>NaN</td>\n",
       "      <td>NaN</td>\n",
       "    </tr>\n",
       "  </tbody>\n",
       "</table>\n",
       "<p>4 rows × 27 columns</p>\n",
       "</div>"
      ],
      "text/plain": [
       "       VehNo VehMake          VehModel  VehYear VehUse  VehAnnMiles  VehOdis  \\\n",
       "85738      1    FORD      EXPLORER XLT     2012      W         8000        0   \n",
       "85739      2     GMC      SIERRA C1500     2007      W         8000        0   \n",
       "85740      3  TOYOTA          SCION XB     2006      W         8000        0   \n",
       "85741      4     GMC  SIERRA C1500 SLT     2015      W         8000        0   \n",
       "\n",
       "      VehCustMod CPCoverageRTR CLCoverageRTR  ... VehCityFirst VehLien  \\\n",
       "85738          N            E6            D6  ...     MAGNOLIA     NaN   \n",
       "85739          N            A0            A0  ...     MAGNOLIA     NaN   \n",
       "85740          N            A0            A0  ...     MAGNOLIA     NaN   \n",
       "85741          N            E6            D6  ...     MAGNOLIA     NaN   \n",
       "\n",
       "      VehSymbolRaterNum                              RTRRefNo  \\\n",
       "85738            2721.0  71511E45-0B3C-49E9-B638-634470E1D1E1   \n",
       "85739              15.0  71511E45-0B3C-49E9-B638-634470E1D1E1   \n",
       "85740              15.0  71511E45-0B3C-49E9-B638-634470E1D1E1   \n",
       "85741            2632.0  71511E45-0B3C-49E9-B638-634470E1D1E1   \n",
       "\n",
       "                                                FileName CWCoverageRTR  \\\n",
       "85738  139351A770852FE5A89847A3A567320D03269B38EFE9F2...           NaN   \n",
       "85739  139351A770852FE5A89847A3A567320D03269B38EFE9F2...           NaN   \n",
       "85740  139351A770852FE5A89847A3A567320D03269B38EFE9F2...           NaN   \n",
       "85741  139351A770852FE5A89847A3A567320D03269B38EFE9F2...           NaN   \n",
       "\n",
       "      UDCoverage VehSalvaged UDCoverageRTR  VehVinEtch  \n",
       "85738        NaN           N           NaN         NaN  \n",
       "85739        NaN           N           NaN         NaN  \n",
       "85740        NaN           N           NaN         NaN  \n",
       "85741        NaN           N           NaN         NaN  \n",
       "\n",
       "[4 rows x 27 columns]"
      ]
     },
     "metadata": {},
     "output_type": "display_data"
    }
   ],
   "source": [
    "# Read vehicle data into dataframe\n",
    "vehicleData = pd.read_csv(\"Results\\outputVehicle.csv\", low_memory=False, index_col=[0])\n",
    "\n",
    "# print shape of DataFrame\n",
    "print(\"Shape of Vehicle DataFrame:\" + str(vehicleData.shape))\n",
    "\n",
    "# display one RTR quote's data\n",
    "display(vehicleData.loc[vehicleData['FileName']==testFileName])\n"
   ]
  },
  {
   "cell_type": "code",
   "execution_count": 4,
   "metadata": {},
   "outputs": [
    {
     "name": "stdout",
     "output_type": "stream",
     "text": [
      "Shape of Response DataFrame:(94369, 12)\n",
      "Number of successful responses: 81445\n",
      "Number of failed responses: 12924\n",
      "Shape of Response DataFrame (Successes):(81445, 12)\n"
     ]
    },
    {
     "data": {
      "text/html": [
       "<div>\n",
       "<style scoped>\n",
       "    .dataframe tbody tr th:only-of-type {\n",
       "        vertical-align: middle;\n",
       "    }\n",
       "\n",
       "    .dataframe tbody tr th {\n",
       "        vertical-align: top;\n",
       "    }\n",
       "\n",
       "    .dataframe thead th {\n",
       "        text-align: right;\n",
       "    }\n",
       "</style>\n",
       "<table border=\"1\" class=\"dataframe\">\n",
       "  <thead>\n",
       "    <tr style=\"text-align: right;\">\n",
       "      <th></th>\n",
       "      <th>FileName</th>\n",
       "      <th>FullTermAmt</th>\n",
       "      <th>LogMessage</th>\n",
       "      <th>RefNo</th>\n",
       "      <th>Status</th>\n",
       "      <th>TransDateTime</th>\n",
       "      <th>VehID</th>\n",
       "      <th>VehMake</th>\n",
       "      <th>VehModel</th>\n",
       "      <th>VehRatedOperator</th>\n",
       "      <th>VehYear</th>\n",
       "      <th>VehNo</th>\n",
       "    </tr>\n",
       "  </thead>\n",
       "  <tbody>\n",
       "    <tr>\n",
       "      <th>79199</th>\n",
       "      <td>139351A770852FE5A89847A3A567320D03269B38EFE9F2...</td>\n",
       "      <td>2206.0</td>\n",
       "      <td>NaN</td>\n",
       "      <td>NaN</td>\n",
       "      <td>Success</td>\n",
       "      <td>2/29/2020 2:41:17 PM</td>\n",
       "      <td>VEH1</td>\n",
       "      <td>FORD</td>\n",
       "      <td>EXPLORER XLT</td>\n",
       "      <td>1</td>\n",
       "      <td>2012.0</td>\n",
       "      <td>1</td>\n",
       "    </tr>\n",
       "    <tr>\n",
       "      <th>79200</th>\n",
       "      <td>139351A770852FE5A89847A3A567320D03269B38EFE9F2...</td>\n",
       "      <td>2206.0</td>\n",
       "      <td>NaN</td>\n",
       "      <td>NaN</td>\n",
       "      <td>Success</td>\n",
       "      <td>2/29/2020 2:41:17 PM</td>\n",
       "      <td>VEH2</td>\n",
       "      <td>GMC</td>\n",
       "      <td>SIERRA 1500 CREW CAB</td>\n",
       "      <td>3</td>\n",
       "      <td>2007.0</td>\n",
       "      <td>2</td>\n",
       "    </tr>\n",
       "    <tr>\n",
       "      <th>79201</th>\n",
       "      <td>139351A770852FE5A89847A3A567320D03269B38EFE9F2...</td>\n",
       "      <td>2206.0</td>\n",
       "      <td>NaN</td>\n",
       "      <td>NaN</td>\n",
       "      <td>Success</td>\n",
       "      <td>2/29/2020 2:41:17 PM</td>\n",
       "      <td>VEH3</td>\n",
       "      <td>SCION</td>\n",
       "      <td>XB</td>\n",
       "      <td>2</td>\n",
       "      <td>2006.0</td>\n",
       "      <td>3</td>\n",
       "    </tr>\n",
       "    <tr>\n",
       "      <th>79202</th>\n",
       "      <td>139351A770852FE5A89847A3A567320D03269B38EFE9F2...</td>\n",
       "      <td>2206.0</td>\n",
       "      <td>NaN</td>\n",
       "      <td>NaN</td>\n",
       "      <td>Success</td>\n",
       "      <td>2/29/2020 2:41:17 PM</td>\n",
       "      <td>VEH4</td>\n",
       "      <td>GMC</td>\n",
       "      <td>SIERRA 1500 CREW CAB SLT</td>\n",
       "      <td>4</td>\n",
       "      <td>2015.0</td>\n",
       "      <td>4</td>\n",
       "    </tr>\n",
       "  </tbody>\n",
       "</table>\n",
       "</div>"
      ],
      "text/plain": [
       "                                                FileName  FullTermAmt  \\\n",
       "79199  139351A770852FE5A89847A3A567320D03269B38EFE9F2...       2206.0   \n",
       "79200  139351A770852FE5A89847A3A567320D03269B38EFE9F2...       2206.0   \n",
       "79201  139351A770852FE5A89847A3A567320D03269B38EFE9F2...       2206.0   \n",
       "79202  139351A770852FE5A89847A3A567320D03269B38EFE9F2...       2206.0   \n",
       "\n",
       "      LogMessage  RefNo   Status         TransDateTime VehID VehMake  \\\n",
       "79199        NaN    NaN  Success  2/29/2020 2:41:17 PM  VEH1    FORD   \n",
       "79200        NaN    NaN  Success  2/29/2020 2:41:17 PM  VEH2     GMC   \n",
       "79201        NaN    NaN  Success  2/29/2020 2:41:17 PM  VEH3   SCION   \n",
       "79202        NaN    NaN  Success  2/29/2020 2:41:17 PM  VEH4     GMC   \n",
       "\n",
       "                       VehModel VehRatedOperator  VehYear VehNo  \n",
       "79199              EXPLORER XLT                1   2012.0     1  \n",
       "79200      SIERRA 1500 CREW CAB                3   2007.0     2  \n",
       "79201                        XB                2   2006.0     3  \n",
       "79202  SIERRA 1500 CREW CAB SLT                4   2015.0     4  "
      ]
     },
     "metadata": {},
     "output_type": "display_data"
    }
   ],
   "source": [
    "# Read response data into dataframe\n",
    "responseData = pd.read_csv(\"Results\\outputResponse.csv\", low_memory=False, index_col=[0])\n",
    "\n",
    "# create new field VehNo which strips VEH from VehID field\n",
    "responseData = responseData.assign(VehNo = lambda x : x.VehID.str[3:])\n",
    "\n",
    "# print shape of DataFrame\n",
    "print(\"Shape of Response DataFrame:\" + str(responseData.shape))\n",
    "    \n",
    "print(\"Number of successful responses: \" + str(responseData[responseData.Status == 'Success'].shape[0]))\n",
    "print(\"Number of failed responses: \" + str(responseData[responseData.Status == 'Failure'].shape[0]))\n",
    "\n",
    "# remove failed response from dataframe\n",
    "responseData = responseData[responseData.Status == 'Success']\n",
    "\n",
    "print(\"Shape of Response DataFrame (Successes):\" + str(responseData.shape))\n",
    "\n",
    "# display one RTR quote's data\n",
    "display(responseData.loc[responseData['FileName']==testFileName])\n",
    "\n"
   ]
  },
  {
   "cell_type": "code",
   "execution_count": 5,
   "metadata": {},
   "outputs": [
    {
     "name": "stdout",
     "output_type": "stream",
     "text": [
      "Shape of sumRespData DataFrame: (81123, 31)\n"
     ]
    },
    {
     "data": {
      "text/html": [
       "<div>\n",
       "<style scoped>\n",
       "    .dataframe tbody tr th:only-of-type {\n",
       "        vertical-align: middle;\n",
       "    }\n",
       "\n",
       "    .dataframe tbody tr th {\n",
       "        vertical-align: top;\n",
       "    }\n",
       "\n",
       "    .dataframe thead th {\n",
       "        text-align: right;\n",
       "    }\n",
       "</style>\n",
       "<table border=\"1\" class=\"dataframe\">\n",
       "  <thead>\n",
       "    <tr style=\"text-align: right;\">\n",
       "      <th></th>\n",
       "      <th>FileName</th>\n",
       "      <th>RTRRefNo</th>\n",
       "      <th>BICoverageRTR</th>\n",
       "      <th>PDCoverageRTR</th>\n",
       "      <th>UMCoverageRTR</th>\n",
       "      <th>MPCoverageRTR</th>\n",
       "      <th>City</th>\n",
       "      <th>County</th>\n",
       "      <th>State</th>\n",
       "      <th>PostalCode</th>\n",
       "      <th>...</th>\n",
       "      <th>PICoverageRTR</th>\n",
       "      <th>Status</th>\n",
       "      <th>FullTermAmt</th>\n",
       "      <th>TransDateTime</th>\n",
       "      <th>LogMessage</th>\n",
       "      <th>VehNo</th>\n",
       "      <th>VehMake</th>\n",
       "      <th>VehModel</th>\n",
       "      <th>VehRatedOperator</th>\n",
       "      <th>VehYear</th>\n",
       "    </tr>\n",
       "  </thead>\n",
       "  <tbody>\n",
       "    <tr>\n",
       "      <th>67665</th>\n",
       "      <td>139351A770852FE5A89847A3A567320D03269B38EFE9F2...</td>\n",
       "      <td>71511E45-0B3C-49E9-B638-634470E1D1E1</td>\n",
       "      <td>D5</td>\n",
       "      <td>C5</td>\n",
       "      <td>A0</td>\n",
       "      <td>A0</td>\n",
       "      <td>MAGNOLIA</td>\n",
       "      <td>MONTGOMERY</td>\n",
       "      <td>TX</td>\n",
       "      <td>77354</td>\n",
       "      <td>...</td>\n",
       "      <td>A0</td>\n",
       "      <td>Success</td>\n",
       "      <td>2206.0</td>\n",
       "      <td>2/29/2020 2:41:17 PM</td>\n",
       "      <td>NaN</td>\n",
       "      <td>1</td>\n",
       "      <td>FORD</td>\n",
       "      <td>EXPLORER XLT</td>\n",
       "      <td>1</td>\n",
       "      <td>2012.0</td>\n",
       "    </tr>\n",
       "    <tr>\n",
       "      <th>67666</th>\n",
       "      <td>139351A770852FE5A89847A3A567320D03269B38EFE9F2...</td>\n",
       "      <td>71511E45-0B3C-49E9-B638-634470E1D1E1</td>\n",
       "      <td>D5</td>\n",
       "      <td>C5</td>\n",
       "      <td>A0</td>\n",
       "      <td>A0</td>\n",
       "      <td>MAGNOLIA</td>\n",
       "      <td>MONTGOMERY</td>\n",
       "      <td>TX</td>\n",
       "      <td>77354</td>\n",
       "      <td>...</td>\n",
       "      <td>A0</td>\n",
       "      <td>Success</td>\n",
       "      <td>2206.0</td>\n",
       "      <td>2/29/2020 2:41:17 PM</td>\n",
       "      <td>NaN</td>\n",
       "      <td>2</td>\n",
       "      <td>GMC</td>\n",
       "      <td>SIERRA 1500 CREW CAB</td>\n",
       "      <td>3</td>\n",
       "      <td>2007.0</td>\n",
       "    </tr>\n",
       "    <tr>\n",
       "      <th>67667</th>\n",
       "      <td>139351A770852FE5A89847A3A567320D03269B38EFE9F2...</td>\n",
       "      <td>71511E45-0B3C-49E9-B638-634470E1D1E1</td>\n",
       "      <td>D5</td>\n",
       "      <td>C5</td>\n",
       "      <td>A0</td>\n",
       "      <td>A0</td>\n",
       "      <td>MAGNOLIA</td>\n",
       "      <td>MONTGOMERY</td>\n",
       "      <td>TX</td>\n",
       "      <td>77354</td>\n",
       "      <td>...</td>\n",
       "      <td>A0</td>\n",
       "      <td>Success</td>\n",
       "      <td>2206.0</td>\n",
       "      <td>2/29/2020 2:41:17 PM</td>\n",
       "      <td>NaN</td>\n",
       "      <td>3</td>\n",
       "      <td>SCION</td>\n",
       "      <td>XB</td>\n",
       "      <td>2</td>\n",
       "      <td>2006.0</td>\n",
       "    </tr>\n",
       "    <tr>\n",
       "      <th>67668</th>\n",
       "      <td>139351A770852FE5A89847A3A567320D03269B38EFE9F2...</td>\n",
       "      <td>71511E45-0B3C-49E9-B638-634470E1D1E1</td>\n",
       "      <td>D5</td>\n",
       "      <td>C5</td>\n",
       "      <td>A0</td>\n",
       "      <td>A0</td>\n",
       "      <td>MAGNOLIA</td>\n",
       "      <td>MONTGOMERY</td>\n",
       "      <td>TX</td>\n",
       "      <td>77354</td>\n",
       "      <td>...</td>\n",
       "      <td>A0</td>\n",
       "      <td>Success</td>\n",
       "      <td>2206.0</td>\n",
       "      <td>2/29/2020 2:41:17 PM</td>\n",
       "      <td>NaN</td>\n",
       "      <td>4</td>\n",
       "      <td>GMC</td>\n",
       "      <td>SIERRA 1500 CREW CAB SLT</td>\n",
       "      <td>4</td>\n",
       "      <td>2015.0</td>\n",
       "    </tr>\n",
       "  </tbody>\n",
       "</table>\n",
       "<p>4 rows × 31 columns</p>\n",
       "</div>"
      ],
      "text/plain": [
       "                                                FileName  \\\n",
       "67665  139351A770852FE5A89847A3A567320D03269B38EFE9F2...   \n",
       "67666  139351A770852FE5A89847A3A567320D03269B38EFE9F2...   \n",
       "67667  139351A770852FE5A89847A3A567320D03269B38EFE9F2...   \n",
       "67668  139351A770852FE5A89847A3A567320D03269B38EFE9F2...   \n",
       "\n",
       "                                   RTRRefNo BICoverageRTR PDCoverageRTR  \\\n",
       "67665  71511E45-0B3C-49E9-B638-634470E1D1E1            D5            C5   \n",
       "67666  71511E45-0B3C-49E9-B638-634470E1D1E1            D5            C5   \n",
       "67667  71511E45-0B3C-49E9-B638-634470E1D1E1            D5            C5   \n",
       "67668  71511E45-0B3C-49E9-B638-634470E1D1E1            D5            C5   \n",
       "\n",
       "      UMCoverageRTR MPCoverageRTR      City      County State PostalCode  ...  \\\n",
       "67665            A0            A0  MAGNOLIA  MONTGOMERY    TX      77354  ...   \n",
       "67666            A0            A0  MAGNOLIA  MONTGOMERY    TX      77354  ...   \n",
       "67667            A0            A0  MAGNOLIA  MONTGOMERY    TX      77354  ...   \n",
       "67668            A0            A0  MAGNOLIA  MONTGOMERY    TX      77354  ...   \n",
       "\n",
       "      PICoverageRTR   Status  FullTermAmt         TransDateTime LogMessage  \\\n",
       "67665            A0  Success       2206.0  2/29/2020 2:41:17 PM        NaN   \n",
       "67666            A0  Success       2206.0  2/29/2020 2:41:17 PM        NaN   \n",
       "67667            A0  Success       2206.0  2/29/2020 2:41:17 PM        NaN   \n",
       "67668            A0  Success       2206.0  2/29/2020 2:41:17 PM        NaN   \n",
       "\n",
       "       VehNo VehMake                  VehModel VehRatedOperator VehYear  \n",
       "67665      1    FORD              EXPLORER XLT                1  2012.0  \n",
       "67666      2     GMC      SIERRA 1500 CREW CAB                3  2007.0  \n",
       "67667      3   SCION                        XB                2  2006.0  \n",
       "67668      4     GMC  SIERRA 1500 CREW CAB SLT                4  2015.0  \n",
       "\n",
       "[4 rows x 31 columns]"
      ]
     },
     "metadata": {},
     "output_type": "display_data"
    }
   ],
   "source": [
    "# merge summary data with responseData\n",
    "sumRespData = pd.merge(summaryData, \n",
    "                       responseData[['FileName','Status', 'FullTermAmt', 'TransDateTime','LogMessage','VehNo','VehMake','VehModel','VehRatedOperator','VehYear']], \n",
    "                       on=\"FileName\", \n",
    "                       how='inner')\n",
    "\n",
    "# print shape of DataFrame\n",
    "print(\"Shape of sumRespData DataFrame: \" + str(sumRespData.shape))\n",
    "\n",
    "# display one RTR quote's data\n",
    "display(sumRespData.loc[sumRespData['FileName']==testFileName])\n"
   ]
  },
  {
   "cell_type": "code",
   "execution_count": 6,
   "metadata": {},
   "outputs": [
    {
     "name": "stdout",
     "output_type": "stream",
     "text": [
      "Shape of sumRespVehData: (81123, 51)\n"
     ]
    },
    {
     "data": {
      "text/html": [
       "<div>\n",
       "<style scoped>\n",
       "    .dataframe tbody tr th:only-of-type {\n",
       "        vertical-align: middle;\n",
       "    }\n",
       "\n",
       "    .dataframe tbody tr th {\n",
       "        vertical-align: top;\n",
       "    }\n",
       "\n",
       "    .dataframe thead th {\n",
       "        text-align: right;\n",
       "    }\n",
       "</style>\n",
       "<table border=\"1\" class=\"dataframe\">\n",
       "  <thead>\n",
       "    <tr style=\"text-align: right;\">\n",
       "      <th></th>\n",
       "      <th>FileName</th>\n",
       "      <th>RTRRefNo</th>\n",
       "      <th>BICoverageRTR</th>\n",
       "      <th>PDCoverageRTR</th>\n",
       "      <th>UMCoverageRTR</th>\n",
       "      <th>MPCoverageRTR</th>\n",
       "      <th>City</th>\n",
       "      <th>County</th>\n",
       "      <th>State</th>\n",
       "      <th>PostalCode</th>\n",
       "      <th>...</th>\n",
       "      <th>VehPostalCode</th>\n",
       "      <th>VehState</th>\n",
       "      <th>VehCity</th>\n",
       "      <th>VehCityFirst</th>\n",
       "      <th>VehLien</th>\n",
       "      <th>VehSymbolRaterNum</th>\n",
       "      <th>CWCoverageRTR</th>\n",
       "      <th>UDCoverage</th>\n",
       "      <th>VehSalvaged</th>\n",
       "      <th>VehVinEtch</th>\n",
       "    </tr>\n",
       "  </thead>\n",
       "  <tbody>\n",
       "    <tr>\n",
       "      <th>67665</th>\n",
       "      <td>139351A770852FE5A89847A3A567320D03269B38EFE9F2...</td>\n",
       "      <td>71511E45-0B3C-49E9-B638-634470E1D1E1</td>\n",
       "      <td>D5</td>\n",
       "      <td>C5</td>\n",
       "      <td>A0</td>\n",
       "      <td>A0</td>\n",
       "      <td>MAGNOLIA</td>\n",
       "      <td>MONTGOMERY</td>\n",
       "      <td>TX</td>\n",
       "      <td>77354</td>\n",
       "      <td>...</td>\n",
       "      <td>77354</td>\n",
       "      <td>TX</td>\n",
       "      <td>MAGNOLIA</td>\n",
       "      <td>MAGNOLIA</td>\n",
       "      <td>NaN</td>\n",
       "      <td>2721.0</td>\n",
       "      <td>NaN</td>\n",
       "      <td>NaN</td>\n",
       "      <td>N</td>\n",
       "      <td>NaN</td>\n",
       "    </tr>\n",
       "    <tr>\n",
       "      <th>67666</th>\n",
       "      <td>139351A770852FE5A89847A3A567320D03269B38EFE9F2...</td>\n",
       "      <td>71511E45-0B3C-49E9-B638-634470E1D1E1</td>\n",
       "      <td>D5</td>\n",
       "      <td>C5</td>\n",
       "      <td>A0</td>\n",
       "      <td>A0</td>\n",
       "      <td>MAGNOLIA</td>\n",
       "      <td>MONTGOMERY</td>\n",
       "      <td>TX</td>\n",
       "      <td>77354</td>\n",
       "      <td>...</td>\n",
       "      <td>77354</td>\n",
       "      <td>TX</td>\n",
       "      <td>MAGNOLIA</td>\n",
       "      <td>MAGNOLIA</td>\n",
       "      <td>NaN</td>\n",
       "      <td>15.0</td>\n",
       "      <td>NaN</td>\n",
       "      <td>NaN</td>\n",
       "      <td>N</td>\n",
       "      <td>NaN</td>\n",
       "    </tr>\n",
       "    <tr>\n",
       "      <th>67667</th>\n",
       "      <td>139351A770852FE5A89847A3A567320D03269B38EFE9F2...</td>\n",
       "      <td>71511E45-0B3C-49E9-B638-634470E1D1E1</td>\n",
       "      <td>D5</td>\n",
       "      <td>C5</td>\n",
       "      <td>A0</td>\n",
       "      <td>A0</td>\n",
       "      <td>MAGNOLIA</td>\n",
       "      <td>MONTGOMERY</td>\n",
       "      <td>TX</td>\n",
       "      <td>77354</td>\n",
       "      <td>...</td>\n",
       "      <td>77354</td>\n",
       "      <td>TX</td>\n",
       "      <td>MAGNOLIA</td>\n",
       "      <td>MAGNOLIA</td>\n",
       "      <td>NaN</td>\n",
       "      <td>15.0</td>\n",
       "      <td>NaN</td>\n",
       "      <td>NaN</td>\n",
       "      <td>N</td>\n",
       "      <td>NaN</td>\n",
       "    </tr>\n",
       "    <tr>\n",
       "      <th>67668</th>\n",
       "      <td>139351A770852FE5A89847A3A567320D03269B38EFE9F2...</td>\n",
       "      <td>71511E45-0B3C-49E9-B638-634470E1D1E1</td>\n",
       "      <td>D5</td>\n",
       "      <td>C5</td>\n",
       "      <td>A0</td>\n",
       "      <td>A0</td>\n",
       "      <td>MAGNOLIA</td>\n",
       "      <td>MONTGOMERY</td>\n",
       "      <td>TX</td>\n",
       "      <td>77354</td>\n",
       "      <td>...</td>\n",
       "      <td>77354</td>\n",
       "      <td>TX</td>\n",
       "      <td>MAGNOLIA</td>\n",
       "      <td>MAGNOLIA</td>\n",
       "      <td>NaN</td>\n",
       "      <td>2632.0</td>\n",
       "      <td>NaN</td>\n",
       "      <td>NaN</td>\n",
       "      <td>N</td>\n",
       "      <td>NaN</td>\n",
       "    </tr>\n",
       "  </tbody>\n",
       "</table>\n",
       "<p>4 rows × 51 columns</p>\n",
       "</div>"
      ],
      "text/plain": [
       "                                                FileName  \\\n",
       "67665  139351A770852FE5A89847A3A567320D03269B38EFE9F2...   \n",
       "67666  139351A770852FE5A89847A3A567320D03269B38EFE9F2...   \n",
       "67667  139351A770852FE5A89847A3A567320D03269B38EFE9F2...   \n",
       "67668  139351A770852FE5A89847A3A567320D03269B38EFE9F2...   \n",
       "\n",
       "                                   RTRRefNo BICoverageRTR PDCoverageRTR  \\\n",
       "67665  71511E45-0B3C-49E9-B638-634470E1D1E1            D5            C5   \n",
       "67666  71511E45-0B3C-49E9-B638-634470E1D1E1            D5            C5   \n",
       "67667  71511E45-0B3C-49E9-B638-634470E1D1E1            D5            C5   \n",
       "67668  71511E45-0B3C-49E9-B638-634470E1D1E1            D5            C5   \n",
       "\n",
       "      UMCoverageRTR MPCoverageRTR      City      County State PostalCode  ...  \\\n",
       "67665            A0            A0  MAGNOLIA  MONTGOMERY    TX      77354  ...   \n",
       "67666            A0            A0  MAGNOLIA  MONTGOMERY    TX      77354  ...   \n",
       "67667            A0            A0  MAGNOLIA  MONTGOMERY    TX      77354  ...   \n",
       "67668            A0            A0  MAGNOLIA  MONTGOMERY    TX      77354  ...   \n",
       "\n",
       "      VehPostalCode VehState   VehCity VehCityFirst VehLien  \\\n",
       "67665         77354       TX  MAGNOLIA     MAGNOLIA     NaN   \n",
       "67666         77354       TX  MAGNOLIA     MAGNOLIA     NaN   \n",
       "67667         77354       TX  MAGNOLIA     MAGNOLIA     NaN   \n",
       "67668         77354       TX  MAGNOLIA     MAGNOLIA     NaN   \n",
       "\n",
       "       VehSymbolRaterNum CWCoverageRTR UDCoverage VehSalvaged VehVinEtch  \n",
       "67665             2721.0           NaN        NaN           N        NaN  \n",
       "67666               15.0           NaN        NaN           N        NaN  \n",
       "67667               15.0           NaN        NaN           N        NaN  \n",
       "67668             2632.0           NaN        NaN           N        NaN  \n",
       "\n",
       "[4 rows x 51 columns]"
      ]
     },
     "metadata": {},
     "output_type": "display_data"
    }
   ],
   "source": [
    "# VehNo needs to be changed from Object to Int64 in order to perform next join\n",
    "sumRespData['VehNo']=sumRespData['VehNo'].astype('int64')\n",
    "\n",
    "# merge sumRespData to vehicleData field\n",
    "sumRespVehData = pd.merge(sumRespData, \n",
    "                          vehicleData[['FileName','VehNo','VehUse','VehAnnMiles','VehOdis','VehCustMod','CPCoverageRTR',\n",
    "                                       'CLCoverageRTR','RTCoverageRTR','TWCoverageRTR','VehABS','VehAlarmRater', \n",
    "                                       'VehPostalCode','VehState','VehCity','VehCityFirst','VehLien','VehSymbolRaterNum',\n",
    "                                       'CWCoverageRTR','UDCoverage','VehSalvaged','VehVinEtch']], \n",
    "                          on=['FileName','VehNo'], \n",
    "                          how='left')\n",
    "\n",
    "# print shape of DataFrame\n",
    "print(\"Shape of sumRespVehData: \" + str(sumRespVehData.shape))\n",
    "\n",
    "# display one RTR quote's data\n",
    "display(sumRespVehData.loc[sumRespVehData['FileName']==testFileName])"
   ]
  },
  {
   "cell_type": "code",
   "execution_count": 7,
   "metadata": {},
   "outputs": [
    {
     "name": "stdout",
     "output_type": "stream",
     "text": [
      "Shape of sumRespVehDrvData DataFrame:(76582, 74)\n"
     ]
    },
    {
     "data": {
      "text/html": [
       "<div>\n",
       "<style scoped>\n",
       "    .dataframe tbody tr th:only-of-type {\n",
       "        vertical-align: middle;\n",
       "    }\n",
       "\n",
       "    .dataframe tbody tr th {\n",
       "        vertical-align: top;\n",
       "    }\n",
       "\n",
       "    .dataframe thead th {\n",
       "        text-align: right;\n",
       "    }\n",
       "</style>\n",
       "<table border=\"1\" class=\"dataframe\">\n",
       "  <thead>\n",
       "    <tr style=\"text-align: right;\">\n",
       "      <th></th>\n",
       "      <th>FileName</th>\n",
       "      <th>RTRRefNo</th>\n",
       "      <th>BICoverageRTR</th>\n",
       "      <th>PDCoverageRTR</th>\n",
       "      <th>UMCoverageRTR</th>\n",
       "      <th>MPCoverageRTR</th>\n",
       "      <th>City</th>\n",
       "      <th>County</th>\n",
       "      <th>State</th>\n",
       "      <th>PostalCode</th>\n",
       "      <th>...</th>\n",
       "      <th>DrvRelationship</th>\n",
       "      <th>DrvAccidents</th>\n",
       "      <th>DrvStatus</th>\n",
       "      <th>DrvLicDate</th>\n",
       "      <th>ForeignRaterYrLicensed</th>\n",
       "      <th>DrvForeignLicYears</th>\n",
       "      <th>DrvForeignLicMonths</th>\n",
       "      <th>DrvHomeOwner</th>\n",
       "      <th>DrvFRStatusReasonRater</th>\n",
       "      <th>DrvActiveMilitary</th>\n",
       "    </tr>\n",
       "  </thead>\n",
       "  <tbody>\n",
       "    <tr>\n",
       "      <th>67665</th>\n",
       "      <td>139351A770852FE5A89847A3A567320D03269B38EFE9F2...</td>\n",
       "      <td>71511E45-0B3C-49E9-B638-634470E1D1E1</td>\n",
       "      <td>D5</td>\n",
       "      <td>C5</td>\n",
       "      <td>A0</td>\n",
       "      <td>A0</td>\n",
       "      <td>MAGNOLIA</td>\n",
       "      <td>MONTGOMERY</td>\n",
       "      <td>TX</td>\n",
       "      <td>77354</td>\n",
       "      <td>...</td>\n",
       "      <td>SE</td>\n",
       "      <td>0.0</td>\n",
       "      <td>NaN</td>\n",
       "      <td>NaN</td>\n",
       "      <td>NaN</td>\n",
       "      <td>NaN</td>\n",
       "      <td>NaN</td>\n",
       "      <td>N</td>\n",
       "      <td>NaN</td>\n",
       "      <td>N</td>\n",
       "    </tr>\n",
       "    <tr>\n",
       "      <th>67666</th>\n",
       "      <td>139351A770852FE5A89847A3A567320D03269B38EFE9F2...</td>\n",
       "      <td>71511E45-0B3C-49E9-B638-634470E1D1E1</td>\n",
       "      <td>D5</td>\n",
       "      <td>C5</td>\n",
       "      <td>A0</td>\n",
       "      <td>A0</td>\n",
       "      <td>MAGNOLIA</td>\n",
       "      <td>MONTGOMERY</td>\n",
       "      <td>TX</td>\n",
       "      <td>77354</td>\n",
       "      <td>...</td>\n",
       "      <td>MO</td>\n",
       "      <td>0.0</td>\n",
       "      <td>NaN</td>\n",
       "      <td>NaN</td>\n",
       "      <td>NaN</td>\n",
       "      <td>NaN</td>\n",
       "      <td>NaN</td>\n",
       "      <td>N</td>\n",
       "      <td>NaN</td>\n",
       "      <td>N</td>\n",
       "    </tr>\n",
       "    <tr>\n",
       "      <th>67667</th>\n",
       "      <td>139351A770852FE5A89847A3A567320D03269B38EFE9F2...</td>\n",
       "      <td>71511E45-0B3C-49E9-B638-634470E1D1E1</td>\n",
       "      <td>D5</td>\n",
       "      <td>C5</td>\n",
       "      <td>A0</td>\n",
       "      <td>A0</td>\n",
       "      <td>MAGNOLIA</td>\n",
       "      <td>MONTGOMERY</td>\n",
       "      <td>TX</td>\n",
       "      <td>77354</td>\n",
       "      <td>...</td>\n",
       "      <td>SP</td>\n",
       "      <td>0.0</td>\n",
       "      <td>NaN</td>\n",
       "      <td>NaN</td>\n",
       "      <td>NaN</td>\n",
       "      <td>NaN</td>\n",
       "      <td>NaN</td>\n",
       "      <td>N</td>\n",
       "      <td>NaN</td>\n",
       "      <td>N</td>\n",
       "    </tr>\n",
       "    <tr>\n",
       "      <th>67668</th>\n",
       "      <td>139351A770852FE5A89847A3A567320D03269B38EFE9F2...</td>\n",
       "      <td>71511E45-0B3C-49E9-B638-634470E1D1E1</td>\n",
       "      <td>D5</td>\n",
       "      <td>C5</td>\n",
       "      <td>A0</td>\n",
       "      <td>A0</td>\n",
       "      <td>MAGNOLIA</td>\n",
       "      <td>MONTGOMERY</td>\n",
       "      <td>TX</td>\n",
       "      <td>77354</td>\n",
       "      <td>...</td>\n",
       "      <td>SP</td>\n",
       "      <td>0.0</td>\n",
       "      <td>NaN</td>\n",
       "      <td>NaN</td>\n",
       "      <td>NaN</td>\n",
       "      <td>NaN</td>\n",
       "      <td>NaN</td>\n",
       "      <td>N</td>\n",
       "      <td>NaN</td>\n",
       "      <td>N</td>\n",
       "    </tr>\n",
       "  </tbody>\n",
       "</table>\n",
       "<p>4 rows × 74 columns</p>\n",
       "</div>"
      ],
      "text/plain": [
       "                                                FileName  \\\n",
       "67665  139351A770852FE5A89847A3A567320D03269B38EFE9F2...   \n",
       "67666  139351A770852FE5A89847A3A567320D03269B38EFE9F2...   \n",
       "67667  139351A770852FE5A89847A3A567320D03269B38EFE9F2...   \n",
       "67668  139351A770852FE5A89847A3A567320D03269B38EFE9F2...   \n",
       "\n",
       "                                   RTRRefNo BICoverageRTR PDCoverageRTR  \\\n",
       "67665  71511E45-0B3C-49E9-B638-634470E1D1E1            D5            C5   \n",
       "67666  71511E45-0B3C-49E9-B638-634470E1D1E1            D5            C5   \n",
       "67667  71511E45-0B3C-49E9-B638-634470E1D1E1            D5            C5   \n",
       "67668  71511E45-0B3C-49E9-B638-634470E1D1E1            D5            C5   \n",
       "\n",
       "      UMCoverageRTR MPCoverageRTR      City      County State PostalCode  ...  \\\n",
       "67665            A0            A0  MAGNOLIA  MONTGOMERY    TX      77354  ...   \n",
       "67666            A0            A0  MAGNOLIA  MONTGOMERY    TX      77354  ...   \n",
       "67667            A0            A0  MAGNOLIA  MONTGOMERY    TX      77354  ...   \n",
       "67668            A0            A0  MAGNOLIA  MONTGOMERY    TX      77354  ...   \n",
       "\n",
       "      DrvRelationship DrvAccidents  DrvStatus DrvLicDate  \\\n",
       "67665              SE          0.0        NaN        NaN   \n",
       "67666              MO          0.0        NaN        NaN   \n",
       "67667              SP          0.0        NaN        NaN   \n",
       "67668              SP          0.0        NaN        NaN   \n",
       "\n",
       "      ForeignRaterYrLicensed  DrvForeignLicYears DrvForeignLicMonths  \\\n",
       "67665                    NaN                 NaN                 NaN   \n",
       "67666                    NaN                 NaN                 NaN   \n",
       "67667                    NaN                 NaN                 NaN   \n",
       "67668                    NaN                 NaN                 NaN   \n",
       "\n",
       "      DrvHomeOwner DrvFRStatusReasonRater DrvActiveMilitary  \n",
       "67665            N                    NaN                 N  \n",
       "67666            N                    NaN                 N  \n",
       "67667            N                    NaN                 N  \n",
       "67668            N                    NaN                 N  \n",
       "\n",
       "[4 rows x 74 columns]"
      ]
     },
     "metadata": {},
     "output_type": "display_data"
    }
   ],
   "source": [
    "# Set VehRatedOperator Field to 0 if it is none (no driver rated against vehicle)\n",
    "sumRespVehData.loc[sumRespVehData.VehRatedOperator == \"None\", \"VehRatedOperator\"] = 0\n",
    "\n",
    "# VehRatedOperator needs to be changed from Object to Int64 in order to perform next join\n",
    "sumRespVehData['VehRatedOperator']=sumRespVehData['VehRatedOperator'].astype('int64')\n",
    "\n",
    "# merge sumRespVehData with driverData \n",
    "sumRespVehDrvData = pd.merge(sumRespVehData, \n",
    "                             driverData[['FileName', 'DrvNo','DrvDOB','DrvSex','DrvMar','DrvLicJur','DrvGoodStudent',\n",
    "                                         'DrvLicType','DrvSWLicStatus','RaterYrsLicensed','DrvLicTypeRater','DrvFRStatus',\n",
    "                                         'DrvEmployStatus','DrvOccup','DrvRelationship','DrvAccidents','DrvStatus',\n",
    "                                         'DrvLicDate','ForeignRaterYrLicensed','DrvForeignLicYears','DrvForeignLicMonths',\n",
    "                                         'DrvHomeOwner','DrvFRStatusReasonRater','DrvActiveMilitary']], \n",
    "                             left_on=['FileName','VehRatedOperator'], \n",
    "                             right_on=[\"FileName\", \"DrvNo\"], \n",
    "                             how='left')\n",
    "\n",
    "# drop rows where vehRatedOperator = 0 as this means no driver rated against vehicle\n",
    "sumRespVehDrvData.drop( sumRespVehDrvData[ sumRespVehDrvData['VehRatedOperator'] == 0 ].index , inplace=True)\n",
    "\n",
    "# print shape of DataFrame\n",
    "print(\"Shape of sumRespVehDrvData DataFrame:\" + str(sumRespVehDrvData.shape))\n",
    "\n",
    "display(sumRespVehDrvData.loc[sumRespVehDrvData['FileName']==testFileName])"
   ]
  },
  {
   "cell_type": "markdown",
   "metadata": {},
   "source": [
    "Quote Data was extracted from an excel database into a csv file for all rows which matched the RTRRefNo in Request/Response files. This was carried out on the customers servers. Only non-sensitive data was extracted."
   ]
  },
  {
   "cell_type": "code",
   "execution_count": 8,
   "metadata": {},
   "outputs": [
    {
     "name": "stdout",
     "output_type": "stream",
     "text": [
      "Shape of quoteData DataFrame: (6469, 148)\n",
      "Shape of allData DataFrame:(80035, 78)\n"
     ]
    }
   ],
   "source": [
    "# Read QuoteData into dataframe\n",
    "quoteData = pd.read_csv(\"SQLData\\QuoteHeader.csv\", low_memory=False) \n",
    "\n",
    "#display(quoteData.loc[quoteData['RTRRefNo']=='71511E45-0B3C-49E9-B638-634470E1D1E1'])\n",
    "\n",
    "# Print shape of dataframe\n",
    "print(\"Shape of quoteData DataFrame: \" + str(quoteData.shape))\n",
    "    \n",
    "# merge sumRespVehDrvData with quoteData \n",
    "allData = pd.merge(sumRespVehDrvData, \n",
    "                     quoteData[['RTRRefNo','QuoteStatus', 'QuoteSeq']], \n",
    "                     on='RTRRefNo', \n",
    "                     how='left')\n",
    "\n",
    "\n",
    "# Create a new field called QuoteUploaded - if a row exists in QuoteData we set it to Y otherwise N \n",
    "allData['QuoteUploaded'] = allData['QuoteStatus'].apply(lambda x: 'N' if pd.isnull(x) else 'Y')\n",
    "# Create a new field called QuoteBound - if a row exists in QuoteData and has the value ! we set it to Y otherwise N \n",
    "allData['QuoteBound'] = allData['QuoteStatus'].apply(lambda x: 'Y' if x=='!' else 'N')\n",
    "\n",
    "# print shape of DataFrame\n",
    "print(\"Shape of allData DataFrame:\" + str(allData.shape))\n",
    "# add copy of data to csv\n",
    "allData.to_csv('allData.csv')"
   ]
  },
  {
   "cell_type": "markdown",
   "metadata": {},
   "source": [
    "## Part 3 Data Preparation\n",
    "<div class=\"alert alert-block alert-info\">\n",
    "    Handle missing data and investigate data quality.\n",
    "</div>"
   ]
  },
  {
   "cell_type": "code",
   "execution_count": 9,
   "metadata": {},
   "outputs": [],
   "source": [
    "# function to count the number of unique values per column in dataframe\n",
    "def printCountUniqueValesPerColumn(data):\n",
    "    data.nunique()\n",
    "\n",
    "    result = data.nunique()\\\n",
    "        .sort_values(ascending=True)\\\n",
    "        .rename('Count')\\\n",
    "        .to_frame()\n",
    "\n",
    "    print(result)"
   ]
  },
  {
   "cell_type": "code",
   "execution_count": 10,
   "metadata": {},
   "outputs": [
    {
     "name": "stdout",
     "output_type": "stream",
     "text": [
      "Columns with missing values over 40%: \n",
      "['PDCoverageRTR', 'PriorInsExpDate', 'PriorInsDurationRater', 'ExDrvNo', 'RqUID', 'PersAutoRqUID', 'UDCoverageRTR', 'PunCoverage', 'UICoverageRTR', 'PICoverageRTR', 'LogMessage', 'TWCoverageRTR', 'VehAlarmRater', 'VehLien', 'CWCoverageRTR', 'UDCoverage', 'VehSalvaged', 'VehVinEtch', 'RaterYrsLicensed', 'DrvFRStatus', 'DrvStatus', 'DrvLicDate', 'ForeignRaterYrLicensed', 'DrvForeignLicYears', 'DrvForeignLicMonths', 'DrvHomeOwner', 'DrvFRStatusReasonRater', 'DrvActiveMilitary', 'QuoteStatus', 'QuoteSeq']\n",
      "30\n",
      "Shape of allData DataFrame after removing columns with over 40% missing values :(80035, 48)\n"
     ]
    }
   ],
   "source": [
    "# missing value ratio - remove columns that have more than 40% of null values\n",
    "\n",
    "# saving missing data percentage in a variable\n",
    "missingDataPercent = allData.isnull().sum()/len(allData)*100\n",
    "\n",
    "variables = allData.columns\n",
    "nullsOverThreshold = [ ]\n",
    "nullsUnderThreshold = [ ]\n",
    "for i in range(0,78):\n",
    "    # setting missing value threshold to 40%\n",
    "    if missingDataPercent[i]<=40:   \n",
    "        nullsUnderThreshold.append(variables[i])\n",
    "    else:\n",
    "        nullsOverThreshold.append(variables[i])\n",
    "        \n",
    "print(\"Columns with missing values over 40%: \\n\" + str(nullsOverThreshold))\n",
    "print(len(nullsOverThreshold))\n",
    "\n",
    "allData = allData.drop(nullsOverThreshold, axis = 1) \n",
    "\n",
    "print(\"Shape of allData DataFrame after removing columns with over 40% missing values :\" + str(allData.shape))\n"
   ]
  },
  {
   "cell_type": "code",
   "execution_count": 11,
   "metadata": {},
   "outputs": [
    {
     "name": "stdout",
     "output_type": "stream",
     "text": [
      "Shape of allData DataFrame after handling missing values :(77271, 48)\n"
     ]
    }
   ],
   "source": [
    "# Drop rows with Missing Values for some columns (where few missing values exist as no way to default)\n",
    "allData.drop( allData[ allData['DrvDOB'].isnull()].index , inplace=True)\n",
    "allData.drop( allData[ allData['BICoverageRTR'].isnull()].index , inplace=True)\n",
    "allData.drop( allData[ allData['State'].isnull()].index , inplace=True)\n",
    "allData.drop( allData[ allData['VehCity'].isnull()].index , inplace=True)\n",
    "allData.drop( allData[ allData['DrvSex'].isnull()].index , inplace=True)\n",
    "allData.drop( allData[ allData['City'].isnull()].index , inplace=True)\n",
    "allData.drop( allData[ allData['County'].isnull()].index , inplace=True)\n",
    "allData.drop( allData[ allData['PostalCode']=='-'].index , inplace=True)\n",
    "allData.drop( allData[ allData['VehState'].isnull()].index , inplace=True)\n",
    "\n",
    "# Default missing values\n",
    "allData['DrvEmployStatus'] = allData['DrvEmployStatus'].apply(lambda x: 'X' if pd.isnull(x) else x)\n",
    "allData['VehCustMod'] = allData['VehCustMod'].apply(lambda x: 'N' if pd.isnull(x) else x)\n",
    "allData['DrvLicJur'] = allData['DrvLicJur'].apply(lambda x: 'NONE' if pd.isnull(x) else x)\n",
    "allData['PolicyTermRTR'] = allData['PolicyTermRTR'].apply(lambda x: '6M' if pd.isnull(x) else x)\n",
    "allData['DrvOccup'] = allData['DrvOccup'].apply(lambda x: 'UNKNOWN' if pd.isnull(x) else x)\n",
    "# set empty to U for unknown\n",
    "allData['DrvSWLicStatus'] = allData['DrvSWLicStatus'].apply(lambda x: 'U' if pd.isnull(x) else x)  \n",
    "\n",
    "allData.loc[(allData.DrvOccup.str.isdigit()), 'DrvOccup'] = \"UNKNOWN\"\n",
    "\n",
    "print(\"Shape of allData DataFrame after handling missing values :\" + str(allData.shape))"
   ]
  },
  {
   "cell_type": "code",
   "execution_count": 12,
   "metadata": {},
   "outputs": [
    {
     "name": "stdout",
     "output_type": "stream",
     "text": [
      "Columns in allData where only one unique value exists: \n",
      "               Count\n",
      "BillType          1\n",
      "Status            1\n",
      "DrvAccidents      1\n",
      "Shape of allData DataFrame after removing low variance columns:(77271, 45)\n"
     ]
    }
   ],
   "source": [
    "# low variance Filter - find columns where there is only one unique value\n",
    "result = allData.nunique()\\\n",
    "        .rename('Count')\\\n",
    "        .to_frame()\n",
    "\n",
    "print(\"Columns in allData where only one unique value exists: \\n \" + str(result[result.Count==1]))\n",
    "\n",
    "# drop columns where there is only one unique value\n",
    "allData = allData.drop(result[result.Count==1].index, axis = 1) \n",
    "\n",
    "print(\"Shape of allData DataFrame after removing low variance columns:\" + str(allData.shape))"
   ]
  },
  {
   "cell_type": "code",
   "execution_count": 13,
   "metadata": {},
   "outputs": [
    {
     "name": "stdout",
     "output_type": "stream",
     "text": [
      "Shape of allData DataFrame after removing invalid coverage rows:(76946, 45)\n"
     ]
    }
   ],
   "source": [
    "# fix up coverages\n",
    "listOfCoverages = ['BI','UM','MP','CP','CL','RT']\n",
    "for coverage in listOfCoverages:    \n",
    "    coverageName = coverage + \"CoverageRTR\"\n",
    "    # remove rows where no letter exists in coverage value (invalid)\n",
    "    allData = allData[allData[coverageName].str.contains('[A-Za-z]')]\n",
    "\n",
    "print(\"Shape of allData DataFrame after removing invalid coverage rows:\" + str(allData.shape))"
   ]
  },
  {
   "cell_type": "code",
   "execution_count": 14,
   "metadata": {},
   "outputs": [],
   "source": [
    "# make copy of data before carrying out transformation\n",
    "dfB4Transform = allData.copy()"
   ]
  },
  {
   "cell_type": "code",
   "execution_count": 15,
   "metadata": {},
   "outputs": [
    {
     "name": "stdout",
     "output_type": "stream",
     "text": [
      "Shape of allData DataFrame after removing DrvDOB and Age rows: (76946, 45)\n"
     ]
    }
   ],
   "source": [
    "# Transform date of birth to an age band\n",
    "def calculate_age(dob):\n",
    "    today = date.today()\n",
    "    return pd.to_numeric(today.year - dob.year - ((today.month, today.day) < (dob.month, dob.day)))\n",
    "\n",
    "allData['DrvDOB'] =  pd.to_datetime(allData['DrvDOB'])\n",
    "allData['Age'] = pd.to_numeric(allData['DrvDOB'].apply(calculate_age), downcast='integer')\n",
    "\n",
    "bin_labels = ['18','19','21','23','25','30','35','40','45','50','60','70','75']\n",
    "cut_bins = [14,18,20,22,24,29,34,39,44,49,59,69,74,110]\n",
    "\n",
    "#Source: https://pbpython.com/pandas-qcut-cut.html\n",
    "allData['DrvAgeBand'] = pd.cut(allData['Age'], bins=cut_bins, labels = bin_labels)\n",
    "\n",
    "# drop DrvDOB and age columns from dataframe\n",
    "allData = allData.drop(['DrvDOB','Age'], axis = 1) \n",
    "\n",
    "print(\"Shape of allData DataFrame after removing DrvDOB and Age rows: \" + str(allData.shape))\n"
   ]
  },
  {
   "cell_type": "code",
   "execution_count": 16,
   "metadata": {},
   "outputs": [],
   "source": [
    "# Transform Vehicle Year to Vehicle Age\n",
    "def setVehicleAge(vehYear):    \n",
    "    thisYear = date.today().year\n",
    "    vehAge = (thisYear - vehYear) + 1\n",
    "    if vehAge > 30:\n",
    "        vehAge = 30\n",
    "    return vehAge\n",
    "\n",
    "allData['VehAgeBand'] = allData['VehYear'].apply(setVehicleAge)\n",
    "\n",
    "allData = allData.drop(['VehYear'], axis = 1) "
   ]
  },
  {
   "cell_type": "code",
   "execution_count": 17,
   "metadata": {},
   "outputs": [
    {
     "name": "stdout",
     "output_type": "stream",
     "text": [
      "Shape of allData DataFrame after removing DrvOccup row: (76946, 44)\n"
     ]
    }
   ],
   "source": [
    "# Fix Up DrvEmployStatus and Drop DrvOccup\n",
    "allData['DrvEmployStatus'] = allData['DrvEmployStatus'].apply(lambda x: 'X' if pd.isnull(x) else x)\n",
    "allData.loc[allData['DrvOccup'].str.contains('homemaker',case=False), 'DrvEmployStatus'] = 'H'\n",
    "allData.loc[allData['DrvOccup'].str.contains('unemployed',case=False), 'DrvEmployStatus'] = 'U'\n",
    "allData.loc[allData['DrvOccup'].str.contains('unknown',case=False), 'DrvEmployStatus'] = 'X'\n",
    "allData.loc[allData['DrvOccup'].str.contains('retired',case=False), 'DrvEmployStatus'] = 'R'\n",
    "allData.loc[allData['DrvOccup'].str.contains('student',case=False), 'DrvEmployStatus'] = 'S'\n",
    "allData['DrvEmployStatus'] = allData['DrvEmployStatus'].apply(lambda x: 'E' if len(x)>1 else x)\n",
    "\n",
    "allData = allData.drop(['DrvOccup'], axis = 1) \n",
    "\n",
    "print(\"Shape of allData DataFrame after removing DrvOccup row: \" + str(allData.shape))"
   ]
  },
  {
   "cell_type": "code",
   "execution_count": 18,
   "metadata": {},
   "outputs": [
    {
     "data": {
      "image/png": "[encoded data removed]",
      "text/plain": [
       "<Figure size 1440x360 with 1 Axes>"
      ]
     },
     "metadata": {
      "needs_background": "light"
     },
     "output_type": "display_data"
    },
    {
     "data": {
      "image/png": "[encoded data removed]",
      "text/plain": [
       "<Figure size 432x288 with 1 Axes>"
      ]
     },
     "metadata": {
      "needs_background": "light"
     },
     "output_type": "display_data"
    },
    {
     "name": "stdout",
     "output_type": "stream",
     "text": [
      "Shape of allData DataFrame after removing FullTermAmt row: (76946, 44)\n"
     ]
    }
   ],
   "source": [
    "# plot the FullTermAmt Value grouped by PolicyTermRTR\n",
    "fig, axs = plt.subplots(figsize=(20,5))\n",
    "ax = sns.boxplot(y=\"PolicyTermRTR\", x=\"FullTermAmt\", data=allData, order=[\"1M\",\"6M\",\"1Y\"])\n",
    "# Show the vertical gridlines\n",
    "ax.xaxis.grid(True) \n",
    "\n",
    "# Transform FullTermAmt to a Premium Band based after analysing distribution\n",
    "bin_labels = ['Low','Average','High']\n",
    "allData['PremiumRange'] = allData.groupby('PolicyTermRTR')['FullTermAmt'].transform(lambda x: pd.qcut(x,3,labels = bin_labels).astype(str))\n",
    "\n",
    "fig, axs = plt.subplots()\n",
    "ax = sns.countplot(data=allData, \n",
    "              y='PremiumRange',\n",
    "              hue='PolicyTermRTR',\n",
    "             hue_order=[\"1M\",\"6M\",\"1Y\"])\n",
    "\n",
    "ax.legend(loc='center left', bbox_to_anchor=(1, 0.5), ncol=1)\n",
    "\n",
    "allData = allData.drop(['FullTermAmt'], axis = 1) \n",
    "\n",
    "plt.show()\n",
    "\n",
    "print(\"Shape of allData DataFrame after removing FullTermAmt row: \" + str(allData.shape))"
   ]
  },
  {
   "cell_type": "code",
   "execution_count": 19,
   "metadata": {},
   "outputs": [
    {
     "data": {
      "image/png": "[encoded data removed]",
      "text/plain": [
       "<Figure size 432x288 with 1 Axes>"
      ]
     },
     "metadata": {
      "needs_background": "light"
     },
     "output_type": "display_data"
    },
    {
     "data": {
      "image/png": "[encoded data removed]",
      "text/plain": [
       "<Figure size 432x288 with 1 Axes>"
      ]
     },
     "metadata": {
      "needs_background": "light"
     },
     "output_type": "display_data"
    }
   ],
   "source": [
    "# Analysis the distribution of VehAnnMiles\n",
    "fig, axs = plt.subplots()\n",
    "ax = sns.boxplot(x=\"VehAnnMiles\", data=allData)\n",
    "# Show the vertical gridlines\n",
    "ax.xaxis.grid(True) \n",
    "\n",
    "# Transform VehAnnMiles after analysis\n",
    "# drop outliers\n",
    "allData.drop( allData[ allData['VehAnnMiles'] > 100000 ].index , inplace=True)\n",
    "# When VehAnnMiles is zero default to 12000\n",
    "allData.loc[(allData.VehAnnMiles==0), 'VehAnnMiles'] = 12000\n",
    "\n",
    "bin_labels = ['Low','Average','High']\n",
    "cut_bins = [0,7499,14999,100000]\n",
    "\n",
    "allData['VehAnnMilesRange'] = pd.cut(allData['VehAnnMiles'],\n",
    "                                   bins=cut_bins,\n",
    "                                   labels = bin_labels)\n",
    "\n",
    "# Drop VehAnnMiles as no longer needed\n",
    "allData = allData.drop(['VehAnnMiles'], axis = 1) \n",
    "\n",
    "fig, axs = plt.subplots()\n",
    "ax = sns.countplot(data=allData, y='VehAnnMilesRange')\n",
    "\n",
    "plt.show()"
   ]
  },
  {
   "cell_type": "code",
   "execution_count": 20,
   "metadata": {},
   "outputs": [
    {
     "data": {
      "image/png": "[encoded data removed]",
      "text/plain": [
       "<Figure size 432x288 with 1 Axes>"
      ]
     },
     "metadata": {
      "needs_background": "light"
     },
     "output_type": "display_data"
    },
    {
     "data": {
      "image/png": "[encoded data removed]",
      "text/plain": [
       "<Figure size 432x288 with 1 Axes>"
      ]
     },
     "metadata": {
      "needs_background": "light"
     },
     "output_type": "display_data"
    },
    {
     "name": "stdout",
     "output_type": "stream",
     "text": [
      "Shape of allData DataFrame after removing VehOdis row: (76892, 43)\n"
     ]
    }
   ],
   "source": [
    "# Analysis the distribution of VehAnnMiles\n",
    "fig, axs = plt.subplots()\n",
    "ax = sns.boxplot(x=\"VehOdis\", data=allData)\n",
    "# Show the vertical gridlines\n",
    "ax.xaxis.grid(True)\n",
    "\n",
    "# drop value 800 as there are only 6 values with this amount and next value is 120\n",
    "allData.drop( allData[ allData['VehOdis'] == 800 ].index , inplace=True)\n",
    "\n",
    "fig, axs = plt.subplots()\n",
    "ax = sns.boxplot(x=\"VehOdis\", data=allData)\n",
    "# Show the vertical gridlines\n",
    "ax.xaxis.grid(True)\n",
    "\n",
    "plt.show()\n",
    "\n",
    "#allData['VehOdis'].value_counts()\n",
    "len(allData[ allData['VehOdis'] == 800 ])\n",
    "\n",
    "# As there is 48926 rows where VehOdis is equal to zero going to drop the column\n",
    "allData = allData.drop(['VehOdis'], axis = 1) \n",
    "\n",
    "print(\"Shape of allData DataFrame after removing VehOdis row: \" + str(allData.shape))\n",
    "   "
   ]
  },
  {
   "cell_type": "code",
   "execution_count": 21,
   "metadata": {},
   "outputs": [
    {
     "name": "stdout",
     "output_type": "stream",
     "text": [
      "Shape of allData DataFrame after removing DrvLicType row: (76723, 42)\n"
     ]
    }
   ],
   "source": [
    "#Merge DrvLicType and DrvLicTypeRater\n",
    "allData.loc[(allData.DrvLicTypeRater == 'Driver') & (allData.DrvLicType == 'LI'), 'DrvLicTypeRater'] = \"LICENSE\"\n",
    "allData.loc[(allData.DrvLicTypeRater == 'Driver') & (allData.DrvLicType == 'SUSPENDED'), 'DrvLicTypeRater'] = \"SUSPENDED\"\n",
    "allData.drop( allData[ allData['DrvLicTypeRater'] == 'Driver' ].index , inplace=True)\n",
    "\n",
    "allData = allData.drop(['DrvLicType'], axis = 1) \n",
    "\n",
    "print(\"Shape of allData DataFrame after removing DrvLicType row: \" + str(allData.shape))"
   ]
  },
  {
   "cell_type": "code",
   "execution_count": 22,
   "metadata": {},
   "outputs": [],
   "source": [
    "# Create a new field, if DrvLicJur is different to State, then it is an out of state licence\n",
    "allData['OutOfStateLicense'] = np.where(allData['DrvLicJur']==allData['State'], 'N', 'Y')\n",
    "allData['GaragedOutOfState'] = np.where(allData['VehState']==allData['State'], 'N', 'Y')\n",
    "\n",
    "allData = allData.drop(['DrvLicJur','VehState'], axis = 1) \n"
   ]
  },
  {
   "cell_type": "code",
   "execution_count": 23,
   "metadata": {},
   "outputs": [],
   "source": [
    "# TransDateTime - records the date the data was generated.  Transforming this to day of week\n",
    "allData['TransDateTime'] = pd.to_datetime(allData['TransDateTime'])\n",
    "\n",
    "allData['TransDayOfWeek'] = allData['TransDateTime'].dt.day_name()\n",
    "allData = allData.drop('TransDateTime', axis = 1) \n",
    "\n"
   ]
  },
  {
   "cell_type": "code",
   "execution_count": 24,
   "metadata": {},
   "outputs": [
    {
     "name": "stdout",
     "output_type": "stream",
     "text": [
      "                   Count\n",
      "OutOfStateLicense      2\n",
      "DrvSex                 2\n",
      "VehCustMod             2\n",
      "DrvGoodStudent         2\n",
      "QuoteBound             2\n",
      "QuoteUploaded          2\n",
      "GaragedOutOfState      2\n",
      "VehABS                 3\n",
      "PolicyTermRTR          3\n",
      "PremiumRange           3\n",
      "VehAnnMilesRange       3\n",
      "DrvSWLicStatus         4\n",
      "MPCoverageRTR          5\n",
      "RTCoverageRTR          5\n",
      "VehNo                  6\n",
      "VehRatedOperator       6\n",
      "VehUse                 6\n",
      "DrvMar                 6\n",
      "DrvEmployStatus        6\n",
      "DrvNo                  6\n",
      "DrvLicTypeRater        7\n",
      "DrvRelationship        7\n",
      "TransDayOfWeek         7\n",
      "UMCoverageRTR          7\n",
      "BICoverageRTR          9\n",
      "State                 10\n",
      "CLCoverageRTR         11\n",
      "CPCoverageRTR         11\n",
      "DrvAgeBand            13\n",
      "VehAgeBand            30\n",
      "VehMake               51\n",
      "EffectiveDate        271\n",
      "County               456\n",
      "VehSymbolRaterNum   1221\n",
      "VehCityFirst        1996\n",
      "VehCity             1996\n",
      "City                2002\n",
      "VehModel            3101\n",
      "VehPostalCode       3187\n",
      "PostalCode          3215\n",
      "RTRRefNo           38750\n",
      "FileName           60936\n"
     ]
    }
   ],
   "source": [
    "printCountUniqueValesPerColumn(allData)"
   ]
  },
  {
   "cell_type": "code",
   "execution_count": 25,
   "metadata": {},
   "outputs": [
    {
     "name": "stdout",
     "output_type": "stream",
     "text": [
      "Shape of allData DataFrame after removing various rows is: (76723, 33)\n"
     ]
    }
   ],
   "source": [
    "# due to domain knowledge of the fields and high cardionality of some of the fields - decided to drop the following columns.\n",
    "listOfColumnsToDrop = ['EffectiveDate','VehSymbolRaterNum','PostalCode','City','VehCity','VehPostalCode','VehCityFirst',\n",
    "                       #drop ID Fields also\n",
    "                       'FileName','RTRRefNo']\n",
    "\n",
    "for col in listOfColumnsToDrop:  \n",
    "    if col in allData.columns :\n",
    "        allData.drop([col] , axis='columns', inplace=True)\n",
    "    else :\n",
    "        print('Column ' + col + ' Name not found')   \n",
    "        \n",
    "print(\"Shape of allData DataFrame after removing various rows is: \" + str(allData.shape))"
   ]
  },
  {
   "cell_type": "markdown",
   "metadata": {},
   "source": [
    "## Part 4 Exploratory Data Analysis and Feature Engineering\n",
    "<div class=\"alert alert-block alert-info\">\n",
    "    I carried out some further analysis of dataset in order to find trends and relationships between variables in the data.    \n",
    "    Also performed some feature reduction techniques\n",
    "</div>"
   ]
  },
  {
   "cell_type": "code",
   "execution_count": 26,
   "metadata": {},
   "outputs": [],
   "source": [
    "# import libraries\n",
    "from sklearn.preprocessing import StandardScaler\n",
    "from sklearn.model_selection import train_test_split, KFold, cross_val_score, RandomizedSearchCV\n",
    "from sklearn.preprocessing import LabelEncoder\n",
    "\n",
    "from sklearn.linear_model import LogisticRegression\n",
    "from sklearn.ensemble import RandomForestClassifier\n",
    "from sklearn.neighbors import KNeighborsClassifier\n",
    "from xgboost import XGBClassifier\n",
    "\n",
    "from mlxtend.feature_selection import SequentialFeatureSelector as SFS\n",
    "from mlxtend.plotting import plot_sequential_feature_selection as plot_sfs\n",
    "from sklearn.pipeline import Pipeline, make_pipeline\n",
    "from imblearn.pipeline import Pipeline, make_pipeline\n",
    "from imblearn.over_sampling import RandomOverSampler, SMOTE\n",
    "from sklearn.metrics import auc, roc_curve, precision_score, confusion_matrix, roc_auc_score\n",
    "from sklearn.metrics import recall_score, f1_score,accuracy_score, plot_confusion_matrix, precision_score\n",
    "\n",
    "from scipy.stats import randint, uniform"
   ]
  },
  {
   "cell_type": "markdown",
   "metadata": {},
   "source": [
    "### Exploratory Data Analysis (EDA)"
   ]
  },
  {
   "cell_type": "code",
   "execution_count": 71,
   "metadata": {},
   "outputs": [],
   "source": [
    "# function to add the percentage value to top of each bar in count plot\n",
    "# Source: https://stackoverflow.com/questions/31749448/how-to-add-percentages-on-top-of-bars-in-seaborn\n",
    "def addPercentageToBar(ax):\n",
    "    ax.set_ylabel('')\n",
    "\n",
    "    bars = ax.patches\n",
    "    half = int(len(bars)/2)\n",
    "    left_bars = bars[:half]\n",
    "    right_bars = bars[half:]\n",
    "\n",
    "    for left, right in zip(left_bars, right_bars):\n",
    "        height_l = left.get_height()\n",
    "        height_r = right.get_height()\n",
    "        total = height_l + height_r\n",
    "\n",
    "        ax.text(left.get_x() + left.get_width()/2., height_l + 40, '{0:.0%}'.format(height_l/total), ha=\"center\")\n",
    "        ax.text(right.get_x() + right.get_width()/2., height_r + 40, '{0:.0%}'.format(height_r/total), ha=\"center\")\n",
    "        "
   ]
  },
  {
   "cell_type": "code",
   "execution_count": 72,
   "metadata": {},
   "outputs": [],
   "source": [
    "# make copy of data in order to carry out the EDA\n",
    "df1 = allData.copy()\n",
    "\n",
    "# changed the type of data in order to do the analysis\n",
    "df1['DrvAgeBand'] = df1['DrvAgeBand'].astype('object')\n",
    "df1['VehAnnMilesRange'] = df1['VehAnnMilesRange'].astype('object')\n",
    "df1['VehAgeBand'] = df1['VehAgeBand'].astype('int32')\n",
    "df1['VehAgeBand'] = df1['VehAgeBand'].astype('object')\n"
   ]
  },
  {
   "cell_type": "code",
   "execution_count": 73,
   "metadata": {},
   "outputs": [
    {
     "data": {
      "image/png": "[encoded data removed]",
      "text/plain": [
       "<Figure size 864x432 with 1 Axes>"
      ]
     },
     "metadata": {},
     "output_type": "display_data"
    }
   ],
   "source": [
    "# Countplot of PolicyTermRTR showing QuoteUploaded breakdown\n",
    "plt.figure(figsize=(12,6))\n",
    "ax1 = sns.countplot(\"PolicyTermRTR\", data=df1, hue=\"QuoteUploaded\", order=[\"1M\",\"6M\",\"1Y\"])\n",
    "# add percentage breakdown of QuoteUploaded for each PolicyTermRTR category \n",
    "addPercentageToBar(ax1)"
   ]
  },
  {
   "cell_type": "code",
   "execution_count": 74,
   "metadata": {},
   "outputs": [
    {
     "data": {
      "image/png": "[encoded data removed]",
      "text/plain": [
       "<Figure size 864x432 with 1 Axes>"
      ]
     },
     "metadata": {},
     "output_type": "display_data"
    }
   ],
   "source": [
    "# Countplot of TransDayOfWeek showing QuoteUploaded breakdown\n",
    "plt.figure(figsize=(12,6))\n",
    "ax2 = sns.countplot(\"TransDayOfWeek\", data=df1, hue=\"QuoteUploaded\",  \n",
    "                   order=[\"Monday\",\"Tuesday\",\"Wednesday\",\"Thursday\",\"Friday\",\"Saturday\",\"Sunday\"])\n",
    "# add percentage breakdown of QuoteUploaded for each TransDayOfWeek category \n",
    "addPercentageToBar(ax2)"
   ]
  },
  {
   "cell_type": "code",
   "execution_count": 75,
   "metadata": {},
   "outputs": [
    {
     "data": {
      "image/png": "[encoded data removed]",
      "text/plain": [
       "<Figure size 864x432 with 1 Axes>"
      ]
     },
     "metadata": {},
     "output_type": "display_data"
    }
   ],
   "source": [
    "# Countplot of State showing QuoteUploaded breakdown\n",
    "plt.figure(figsize=(12,6))\n",
    "ax3 = sns.countplot(\"State\", data=df1, hue=\"QuoteUploaded\", order=[\"AL\",\"CA\",\"CO\",\"GA\",\"IL\",\"LA\",\"MS\",\"NM\",\"TN\",\"TX\"])\n",
    "# add percentage breakdown of QuoteUploaded for State category \n",
    "addPercentageToBar(ax3)"
   ]
  },
  {
   "cell_type": "code",
   "execution_count": 84,
   "metadata": {},
   "outputs": [
    {
     "data": {
      "image/png": "[encoded data removed]",
      "text/plain": [
       "<Figure size 864x432 with 1 Axes>"
      ]
     },
     "metadata": {},
     "output_type": "display_data"
    }
   ],
   "source": [
    "# Countplot of VehAgeBand showing QuoteUploaded breakdown\n",
    "plt.figure(figsize=(12,6))\n",
    "ax4 = sns.countplot(\"VehAgeBand\", data=df1, hue=\"QuoteUploaded\")\n",
    "# add percentage breakdown of QuoteUploaded for VehAgeBand category \n",
    "addPercentageToBar(ax4)"
   ]
  },
  {
   "cell_type": "code",
   "execution_count": 79,
   "metadata": {},
   "outputs": [
    {
     "data": {
      "image/png": "[encoded data removed]",
      "text/plain": [
       "<Figure size 864x432 with 1 Axes>"
      ]
     },
     "metadata": {},
     "output_type": "display_data"
    }
   ],
   "source": [
    "# Countplot of VehUse showing QuoteUploaded breakdown\n",
    "plt.figure(figsize=(12,6))\n",
    "ax5 = sns.countplot(\"VehUse\", data=df1, hue=\"QuoteUploaded\", order=[\"B\",\"C\",\"DO\",\"DU\",\"P\",\"W\"])\n",
    "# add percentage breakdown of QuoteUploaded for VehUse category \n",
    "addPercentageToBar(ax5)"
   ]
  },
  {
   "cell_type": "code",
   "execution_count": 80,
   "metadata": {},
   "outputs": [
    {
     "data": {
      "image/png": "[encoded data removed]",
      "text/plain": [
       "<Figure size 864x432 with 1 Axes>"
      ]
     },
     "metadata": {},
     "output_type": "display_data"
    }
   ],
   "source": [
    "# Countplot of VehAnnMilesRange showing QuoteUploaded breakdown\n",
    "plt.figure(figsize=(12,6))\n",
    "ax6 = sns.countplot(\"VehAnnMilesRange\", data=df1, hue=\"QuoteUploaded\", order=[\"Low\",\"Average\",\"High\"])\n",
    "# add percentage breakdown of QuoteUploaded for VehAnnMilesRange category \n",
    "addPercentageToBar(ax6)"
   ]
  },
  {
   "cell_type": "code",
   "execution_count": 81,
   "metadata": {},
   "outputs": [
    {
     "data": {
      "image/png": "[encoded data removed]",
      "text/plain": [
       "<Figure size 864x432 with 1 Axes>"
      ]
     },
     "metadata": {},
     "output_type": "display_data"
    }
   ],
   "source": [
    "# Countplot of DrvEmployStatus showing QuoteUploaded breakdown\n",
    "plt.figure(figsize=(12,6))\n",
    "ax7 = sns.countplot(\"DrvEmployStatus\", data=df1, hue=\"QuoteUploaded\", order=[\"E\",\"H\",\"R\",\"S\",\"U\",\"X\"])\n",
    "# add percentage breakdown of DrvEmployStatus for VehAnnMilesRange category \n",
    "addPercentageToBar(ax7)"
   ]
  },
  {
   "cell_type": "code",
   "execution_count": 82,
   "metadata": {},
   "outputs": [
    {
     "data": {
      "image/png": "[encoded data removed]",
      "text/plain": [
       "<Figure size 864x432 with 1 Axes>"
      ]
     },
     "metadata": {},
     "output_type": "display_data"
    }
   ],
   "source": [
    "# Countplot of DrvAgeBand showing QuoteUploaded breakdown\n",
    "plt.figure(figsize=(12,6))\n",
    "ax8 = sns.countplot(\"DrvAgeBand\", data=df1, hue=\"QuoteUploaded\")\n",
    "# add percentage breakdown of DrvAgeBand for VehAnnMilesRange category \n",
    "addPercentageToBar(ax8)"
   ]
  },
  {
   "cell_type": "code",
   "execution_count": 83,
   "metadata": {},
   "outputs": [
    {
     "data": {
      "image/png": "[encoded data removed]",
      "text/plain": [
       "<Figure size 864x432 with 1 Axes>"
      ]
     },
     "metadata": {},
     "output_type": "display_data"
    }
   ],
   "source": [
    "# Countplot of DrvSex showing QuoteUploaded breakdown\n",
    "plt.figure(figsize=(12,6))\n",
    "ax9 = sns.countplot(\"DrvSex\", data=df1, hue=\"QuoteUploaded\", order=[\"F\",\"M\"])\n",
    "# add percentage breakdown of DrvSex for VehAnnMilesRange category \n",
    "addPercentageToBar(ax9)"
   ]
  },
  {
   "cell_type": "code",
   "execution_count": 51,
   "metadata": {},
   "outputs": [
    {
     "data": {
      "image/png": "[encoded data removed]",
      "text/plain": [
       "<Figure size 936x432 with 1 Axes>"
      ]
     },
     "metadata": {},
     "output_type": "display_data"
    }
   ],
   "source": [
    "# boxplot of the fullTermAmt by PolicyTermRTR category (before transformation of this variable)\n",
    "sns.set_style(\"whitegrid\")\n",
    "g = sns.catplot(y=\"PolicyTermRTR\", x=\"FullTermAmt\", hue=\"QuoteUploaded\", data=dfB4Transform, \n",
    "                height=6, kind=\"box\", palette=\"muted\", aspect=13/6, order=[\"1M\",\"6M\",\"1Y\"], legend_out=False)\n",
    "g.despine(left=True)\n",
    "g.set_xlabels(\"Policy Premium\")\n",
    "g.set_ylabels(\"Policy Term\")\n",
    "plt.grid(linewidth=0.2)\n",
    "ax.patch.set_edgecolor('black')  \n",
    "plt.show()\n"
   ]
  },
  {
   "cell_type": "markdown",
   "metadata": {},
   "source": [
    "### Feature Reduction and Selection"
   ]
  },
  {
   "cell_type": "code",
   "execution_count": 32,
   "metadata": {},
   "outputs": [
    {
     "name": "stdout",
     "output_type": "stream",
     "text": [
      "['BICoverageRTR', 'UMCoverageRTR', 'MPCoverageRTR', 'County', 'State', 'PolicyTermRTR', 'VehMake', 'VehModel', 'VehUse', 'VehCustMod', 'CPCoverageRTR', 'CLCoverageRTR', 'RTCoverageRTR', 'VehABS', 'DrvSex', 'DrvMar', 'DrvGoodStudent', 'DrvSWLicStatus', 'DrvLicTypeRater', 'DrvEmployStatus', 'DrvRelationship', 'QuoteUploaded', 'QuoteBound', 'DrvAgeBand', 'VehAgeBand', 'PremiumRange', 'VehAnnMilesRange', 'OutOfStateLicense', 'GaragedOutOfState', 'TransDateOfWeek']\n"
     ]
    }
   ],
   "source": [
    "df = allData.copy()\n",
    "\n",
    "# reset datatypes in order to perform label encoding\n",
    "df['DrvAgeBand'] = df['DrvAgeBand'].astype('object')\n",
    "df['VehAnnMilesRange'] = df['VehAnnMilesRange'].astype('object')\n",
    "df['VehAgeBand'] = df['VehAgeBand'].astype('object')\n",
    "\n",
    "# get list and print list of categorical columns\n",
    "categorical_cols = list(df.select_dtypes('object').columns)\n",
    "print(categorical_cols)\n",
    "\n",
    "# instantiate labelencoder object\n",
    "le = LabelEncoder()\n",
    "\n",
    "# apply label encoding to categorical feature columns\n",
    "df[categorical_cols] = df[categorical_cols].apply(lambda col: le.fit_transform(col))\n"
   ]
  },
  {
   "cell_type": "code",
   "execution_count": 131,
   "metadata": {},
   "outputs": [
    {
     "data": {
      "image/png": "[encoded data removed]",
      "text/plain": [
       "<Figure size 792x648 with 2 Axes>"
      ]
     },
     "metadata": {},
     "output_type": "display_data"
    }
   ],
   "source": [
    "# use the pandas .corr() function to compute pairwise correlations for the dataframe\n",
    "corr = df.corr()\n",
    "# visualise the data with seaborn\n",
    "mask = np.triu(np.ones_like(corr, dtype=np.bool))\n",
    "sns.set_style(style = 'white')\n",
    "f, ax = plt.subplots(figsize=(11, 9))\n",
    "cmap = sns.diverging_palette(10, 250, as_cmap=True)\n",
    "sns.heatmap(corr, mask=mask, cmap=cmap, \n",
    "        square=True,\n",
    "        linewidths=.5, cbar_kws={\"shrink\": .5}, ax=ax)\n",
    "\n",
    "plt.show()\n"
   ]
  },
  {
   "cell_type": "code",
   "execution_count": 132,
   "metadata": {},
   "outputs": [
    {
     "name": "stdout",
     "output_type": "stream",
     "text": [
      "Shape of DataFrame after removing various rows is: (76723, 30)\n"
     ]
    }
   ],
   "source": [
    "# drop the following columns based on analysis of the correlation plot above.\n",
    "df = df.drop(['CLCoverageRTR','CPCoverageRTR','DrvNo'], axis = 1) \n",
    "\n",
    "print(\"Shape of DataFrame after removing various rows is: \" + str(df.shape))\n",
    "\n",
    "df.to_csv('df.csv')  \n"
   ]
  },
  {
   "cell_type": "code",
   "execution_count": 133,
   "metadata": {},
   "outputs": [],
   "source": [
    "# get the dataset and set up scoring \n",
    "def get_dataset(data):\n",
    "    y = data.QuoteUploaded\n",
    "    X = data.drop('QuoteUploaded', axis=1)\n",
    "    return X, y\n",
    "\n",
    "\n",
    "# set up scoring type for analysis\n",
    "scoringType = 'roc_auc'\n",
    "\n",
    "\n",
    "X, y = get_dataset(df)\n",
    "X_train, X_test, y_train, y_test= train_test_split(X, y,                                                    \n",
    "                                                   test_size=0.25,\n",
    "                                                   random_state=0)"
   ]
  },
  {
   "cell_type": "markdown",
   "metadata": {},
   "source": [
    "### Logistic Regression Feature Selection\n",
    "\n",
    "For this section the results are not reproducable - slightly different results are returned every time this feature selection section is run.  So please note that the number of features returned might not match the number of features in the thesis.  The results for one particular run was saved to csv files and then reloaded for the later parts of this notebook. \n",
    "All other sections of this code are reproducable by using random_state parameter.\n"
   ]
  },
  {
   "cell_type": "code",
   "execution_count": 134,
   "metadata": {},
   "outputs": [
    {
     "name": "stdout",
     "output_type": "stream",
     "text": [
      "Best combination (ACC: 0.821): (0, 3, 4, 5, 6, 8, 9, 10, 11, 12, 14, 15, 16, 17, 18, 19, 20, 21, 22, 24, 26, 27)\n",
      "\n",
      "Index(['BICoverageRTR', 'County', 'State', 'PolicyTermRTR', 'VehNo',\n",
      "       'VehModel', 'VehRatedOperator', 'VehUse', 'VehCustMod', 'RTCoverageRTR',\n",
      "       'DrvSex', 'DrvMar', 'DrvGoodStudent', 'DrvSWLicStatus',\n",
      "       'DrvLicTypeRater', 'DrvEmployStatus', 'DrvRelationship', 'QuoteBound',\n",
      "       'DrvAgeBand', 'PremiumRange', 'OutOfStateLicense', 'GaragedOutOfState'],\n",
      "      dtype='object')\n"
     ]
    },
    {
     "data": {
      "image/png": "[encoded data removed]",
      "text/plain": [
       "<Figure size 432x288 with 1 Axes>"
      ]
     },
     "metadata": {},
     "output_type": "display_data"
    },
    {
     "name": "stdout",
     "output_type": "stream",
     "text": [
      "Wall time: 45min 43s\n"
     ]
    }
   ],
   "source": [
    "%%time\n",
    "\n",
    "#Source: http://rasbt.github.io/mlxtend/user_guide/feature_selection/SequentialFeatureSelector/\n",
    "lr = LogisticRegression(random_state = 0, penalty = 'l1', solver='saga',max_iter=1000)\n",
    "sfs1 = SFS(estimator=lr, \n",
    "           k_features=(3, 29),\n",
    "           forward=True, \n",
    "           floating=False, \n",
    "           scoring=scoringType,\n",
    "           cv=5,\n",
    "           n_jobs=-1)\n",
    "\n",
    "pipe = make_pipeline(StandardScaler(), sfs1)\n",
    "\n",
    "pipe.fit(X_train, y_train)\n",
    "\n",
    "print('Best combination (ACC: %.3f): %s\\n' % (sfs1.k_score_, sfs1.k_feature_idx_))\n",
    "cols = list(sfs1.k_feature_idx_)\n",
    "featuresLR = X.columns[cols]\n",
    "print(featuresLR)\n",
    "plot_sfs(sfs1.get_metric_dict(), kind='std_err');\n",
    "plt.show()\n"
   ]
  },
  {
   "cell_type": "code",
   "execution_count": 135,
   "metadata": {},
   "outputs": [
    {
     "name": "stdout",
     "output_type": "stream",
     "text": [
      "(76723, 22)\n"
     ]
    }
   ],
   "source": [
    "# make a copy of dataset\n",
    "featuresListLR = featuresLR.tolist()\n",
    "dfLR = df.copy()\n",
    "# Drop the columns based on forward feature selection above \n",
    "dfLR.drop(dfLR.columns.difference(featuresListLR), 1, inplace=True)\n",
    "print(dfLR.shape)\n",
    "#dfLR.to_csv('dfLR.csv')\n"
   ]
  },
  {
   "cell_type": "markdown",
   "metadata": {},
   "source": [
    "### Random Forest Feature Selection"
   ]
  },
  {
   "cell_type": "code",
   "execution_count": 136,
   "metadata": {},
   "outputs": [
    {
     "name": "stdout",
     "output_type": "stream",
     "text": [
      "Best combination (ACC: 0.977): (0, 1, 2, 3, 4, 7, 8, 10, 11, 13, 14, 15, 17, 18, 19, 21, 22, 23, 24, 25, 26, 27, 28)\n",
      "\n",
      "Index(['BICoverageRTR', 'UMCoverageRTR', 'MPCoverageRTR', 'County', 'State',\n",
      "       'VehMake', 'VehModel', 'VehUse', 'VehCustMod', 'VehABS', 'DrvSex',\n",
      "       'DrvMar', 'DrvSWLicStatus', 'DrvLicTypeRater', 'DrvEmployStatus',\n",
      "       'QuoteBound', 'DrvAgeBand', 'VehAgeBand', 'PremiumRange',\n",
      "       'VehAnnMilesRange', 'OutOfStateLicense', 'GaragedOutOfState',\n",
      "       'TransDateOfWeek'],\n",
      "      dtype='object')\n"
     ]
    },
    {
     "data": {
      "image/png": "[encoded data removed]",
      "text/plain": [
       "<Figure size 432x288 with 1 Axes>"
      ]
     },
     "metadata": {},
     "output_type": "display_data"
    },
    {
     "name": "stdout",
     "output_type": "stream",
     "text": [
      "Wall time: 20min 25s\n"
     ]
    }
   ],
   "source": [
    "%%time\n",
    "# Repeat feature selector on Random Forest classifier\n",
    "rf = RandomForestClassifier(random_state=0, n_jobs=-1)\n",
    "\n",
    "sfs2 = SFS(estimator=rf, \n",
    "           k_features=(3, 29),\n",
    "           forward=True, \n",
    "           floating=False, \n",
    "           scoring=scoringType,\n",
    "           cv=5,\n",
    "           n_jobs=-1)\n",
    "\n",
    "sfs2.fit(X_train, y_train)\n",
    "\n",
    "print('Best combination (ACC: %.3f): %s\\n' % (sfs2.k_score_, sfs2.k_feature_idx_))\n",
    "cols2 = list(sfs2.k_feature_idx_)\n",
    "featuresrf = X.columns[cols2]\n",
    "print(featuresrf)\n",
    "plot_sfs(sfs2.get_metric_dict(), kind='std_err');\n",
    "\n",
    "plt.show()"
   ]
  },
  {
   "cell_type": "code",
   "execution_count": 137,
   "metadata": {},
   "outputs": [
    {
     "name": "stdout",
     "output_type": "stream",
     "text": [
      "(76723, 23)\n"
     ]
    }
   ],
   "source": [
    "# make a copy of dataset\n",
    "featuresListRF = featuresrf.tolist()\n",
    "dfRF = df.copy()\n",
    "# Drop the columns based on forward feature selection above \n",
    "dfRF.drop(dfRF.columns.difference(featuresListRF), 1, inplace=True)\n",
    "print(dfRF.shape)\n",
    "\n",
    "#dfRF.to_csv('dfRF.csv')"
   ]
  },
  {
   "cell_type": "markdown",
   "metadata": {},
   "source": [
    "### K Nearest Neighbour Feature Selection"
   ]
  },
  {
   "cell_type": "code",
   "execution_count": 138,
   "metadata": {},
   "outputs": [
    {
     "name": "stdout",
     "output_type": "stream",
     "text": [
      "Best combination (ACC: 0.944): (3, 4, 7, 8, 11, 16, 17, 18, 19, 21, 22, 23, 25, 27)\n",
      "\n",
      "Index(['County', 'State', 'VehMake', 'VehModel', 'VehCustMod',\n",
      "       'DrvGoodStudent', 'DrvSWLicStatus', 'DrvLicTypeRater',\n",
      "       'DrvEmployStatus', 'QuoteBound', 'DrvAgeBand', 'VehAgeBand',\n",
      "       'VehAnnMilesRange', 'GaragedOutOfState'],\n",
      "      dtype='object')\n"
     ]
    },
    {
     "data": {
      "image/png": "[encoded data removed]",
      "text/plain": [
       "<Figure size 432x288 with 1 Axes>"
      ]
     },
     "metadata": {},
     "output_type": "display_data"
    },
    {
     "name": "stdout",
     "output_type": "stream",
     "text": [
      "Wall time: 1h 15min 40s\n"
     ]
    }
   ],
   "source": [
    "%%time\n",
    "\n",
    "# Repeat feature selector on  K Nearest Neighbour Classifier\n",
    "knn = KNeighborsClassifier(n_jobs=-1)  \n",
    "\n",
    "sfs3 = SFS(estimator=knn, \n",
    "           k_features=(3, 29),\n",
    "           forward=True, \n",
    "           floating=False, \n",
    "           scoring=scoringType,\n",
    "           cv=5,\n",
    "           n_jobs=-1)\n",
    "\n",
    "pipe3 = make_pipeline(StandardScaler(), sfs3)\n",
    "\n",
    "pipe3.fit(X_train, y_train)\n",
    "\n",
    "\n",
    "print('Best combination (ACC: %.3f): %s\\n' % (sfs3.k_score_, sfs3.k_feature_idx_))\n",
    "cols3 = list(sfs3.k_feature_idx_)\n",
    "featuresKNN = X.columns[cols3]\n",
    "print(featuresKNN)\n",
    "plot_sfs(sfs3.get_metric_dict(), kind='std_err');\n",
    "\n",
    "plt.show()"
   ]
  },
  {
   "cell_type": "code",
   "execution_count": 139,
   "metadata": {},
   "outputs": [
    {
     "name": "stdout",
     "output_type": "stream",
     "text": [
      "14\n",
      "(76723, 14)\n"
     ]
    }
   ],
   "source": [
    "# make a copy of dataset\n",
    "featuresListKNN = featuresKNN.tolist()\n",
    "dfKNN = df.copy()\n",
    "print(len(featuresListKNN))\n",
    "# Drop the columns based on forward feature selection above \n",
    "dfKNN.drop(dfKNN.columns.difference(featuresListKNN), 1, inplace=True)\n",
    "print(dfKNN.shape)\n",
    "\n",
    "#dfKNN.to_csv('dfKNN1.csv')"
   ]
  },
  {
   "cell_type": "markdown",
   "metadata": {},
   "source": [
    "### XGBoost Classifier Feature Selection"
   ]
  },
  {
   "cell_type": "code",
   "execution_count": 140,
   "metadata": {},
   "outputs": [
    {
     "name": "stdout",
     "output_type": "stream",
     "text": [
      "Best combination (ACC: 0.958): (0, 1, 2, 3, 4, 5, 7, 8, 9, 10, 11, 14, 16, 17, 18, 19, 21, 22, 23, 24, 25, 26, 27, 28)\n",
      "\n",
      "Index(['BICoverageRTR', 'UMCoverageRTR', 'MPCoverageRTR', 'County', 'State',\n",
      "       'PolicyTermRTR', 'VehMake', 'VehModel', 'VehRatedOperator', 'VehUse',\n",
      "       'VehCustMod', 'DrvSex', 'DrvGoodStudent', 'DrvSWLicStatus',\n",
      "       'DrvLicTypeRater', 'DrvEmployStatus', 'QuoteBound', 'DrvAgeBand',\n",
      "       'VehAgeBand', 'PremiumRange', 'VehAnnMilesRange', 'OutOfStateLicense',\n",
      "       'GaragedOutOfState', 'TransDateOfWeek'],\n",
      "      dtype='object')\n"
     ]
    },
    {
     "data": {
      "image/png": "[encoded data removed]",
      "text/plain": [
       "<Figure size 432x288 with 1 Axes>"
      ]
     },
     "metadata": {},
     "output_type": "display_data"
    },
    {
     "name": "stdout",
     "output_type": "stream",
     "text": [
      "Wall time: 23min 58s\n"
     ]
    }
   ],
   "source": [
    "%%time\n",
    "# Repeat feature selector on  XGBoost Classifier\n",
    "xgb = XGBClassifier(random_state=0, n_jobs=-1)\n",
    "\n",
    "sfs5 = SFS(estimator=xgb, \n",
    "           k_features=(3, 29),\n",
    "           forward=True, \n",
    "           floating=False, \n",
    "           scoring=scoringType,\n",
    "           cv=5,\n",
    "           n_jobs=-1)\n",
    "\n",
    "sfs5.fit(X_train, y_train)\n",
    "\n",
    "print('Best combination (ACC: %.3f): %s\\n' % (sfs5.k_score_, sfs5.k_feature_idx_))\n",
    "cols5 = list(sfs5.k_feature_idx_)\n",
    "featuresXGB = X.columns[cols5]\n",
    "print(featuresXGB)\n",
    "plot_sfs(sfs5.get_metric_dict(), kind='std_err');\n",
    "\n",
    "plt.show()"
   ]
  },
  {
   "cell_type": "code",
   "execution_count": 141,
   "metadata": {},
   "outputs": [
    {
     "name": "stdout",
     "output_type": "stream",
     "text": [
      "24\n",
      "(76723, 24)\n"
     ]
    }
   ],
   "source": [
    "# make a copy of dataset\n",
    "featuresListXGB = featuresXGB.tolist()\n",
    "dfXGB = df.copy()\n",
    "print(len(featuresListXGB))\n",
    "# Drop the columns based on forward feature selection above \n",
    "dfXGB.drop(dfXGB.columns.difference(featuresListXGB), 1, inplace=True)\n",
    "print(dfXGB.shape)\n",
    "\n",
    "#dfXGB.to_csv('dfXGB1.csv')"
   ]
  },
  {
   "cell_type": "markdown",
   "metadata": {},
   "source": [
    "## Part 5  Imbalanced Data Investigation\n",
    "<div class=\"alert alert-block alert-info\">\n",
    "    Data to classifiy is imbalanced. Try different techniques to handle this imbalance.\n",
    "</div>"
   ]
  },
  {
   "cell_type": "code",
   "execution_count": 36,
   "metadata": {},
   "outputs": [],
   "source": [
    "# function to print classifier results,.\n",
    "def printClassiferResults(descOfRun, y_test, y_pred, cv_score, scoringType ):\n",
    "    print(descOfRun)\n",
    "\n",
    "    print(\"=== Confusion Matrix ===\")\n",
    "    print(confusion_matrix(y_test, y_pred))\n",
    "\n",
    "    print(\"=== Cross Validation Score ===\")        \n",
    "    print(\"Mean \" + scoringType + \" Score: \" + str(cv_score.mean()))\n",
    "    \n",
    "    print(\"=== Test Data Score ===\") \n",
    "    if scoringType == \"f1\":\n",
    "        score = f1_score(y_test, y_pred)    \n",
    "    elif scoringType == \"roc_auc\":\n",
    "        score = roc_auc_score(y_test, y_pred)    \n",
    "    elif scoringType == \"recall\":\n",
    "        score = recall_score(y_test, y_pred)\n",
    "    print(\"Test \" + scoringType + \" Score: \" + str(score))\n",
    "    print('\\n')"
   ]
  },
  {
   "cell_type": "code",
   "execution_count": 37,
   "metadata": {},
   "outputs": [
    {
     "name": "stdout",
     "output_type": "stream",
     "text": [
      "(76723, 30)\n",
      "No of rows where QuoteUploaded is Y: 12059 (15.72% )\n",
      "No of rows where QuoteUploaded is N: 64664 (84.28% )\n"
     ]
    },
    {
     "data": {
      "image/png": "[encoded data removed]",
      "text/plain": [
       "<Figure size 432x288 with 1 Axes>"
      ]
     },
     "metadata": {},
     "output_type": "display_data"
    }
   ],
   "source": [
    "print(df.shape)\n",
    "noOfRows = len(df.index)\n",
    "noUploaded = df[df.QuoteUploaded == 1].shape[0]\n",
    "noNotUploaded = df[df.QuoteUploaded == 0].shape[0]\n",
    "print(\"No of rows where QuoteUploaded is Y: \" + str(noUploaded) + \" (\" + str(round((noUploaded/noOfRows)*100,2)) + \"% )\") \n",
    "print(\"No of rows where QuoteUploaded is N: \" + str(noNotUploaded) + \" (\" + str(round((noNotUploaded/noOfRows)*100,2)) + \"% )\") \n",
    "#Visualize the count of QuoteUploaded\n",
    "sns.countplot(df['QuoteUploaded'])\n",
    "plt.show()"
   ]
  },
  {
   "cell_type": "markdown",
   "metadata": {},
   "source": [
    "### Logistic Regression Sampling"
   ]
  },
  {
   "cell_type": "code",
   "execution_count": 38,
   "metadata": {},
   "outputs": [],
   "source": [
    "X, y = get_dataset(df)\n",
    "kf = KFold(n_splits=5, random_state=0, shuffle=True)\n"
   ]
  },
  {
   "cell_type": "code",
   "execution_count": 39,
   "metadata": {},
   "outputs": [
    {
     "name": "stdout",
     "output_type": "stream",
     "text": [
      "(76723, 30)\n",
      "Run of Logistic Regression with full dataset\n",
      "=== Confusion Matrix ===\n",
      "[[16145     0]\n",
      " [ 1506  1530]]\n",
      "=== Cross Validation Score ===\n",
      "Mean roc_auc Score: 0.8208747102066158\n",
      "=== Test Data Score ===\n",
      "Test roc_auc Score: 0.7519762845849802\n",
      "\n",
      "\n",
      "(76723, 21)\n",
      "Run of Logistic Regression with reduced dataset\n",
      "=== Confusion Matrix ===\n",
      "[[16145     0]\n",
      " [ 1506  1530]]\n",
      "=== Cross Validation Score ===\n",
      "Mean roc_auc Score: 0.8214563178222234\n",
      "=== Test Data Score ===\n",
      "Test roc_auc Score: 0.7519762845849802\n",
      "\n",
      "\n",
      "Run of Logistic Regression with reduced dataset (oversample)\n",
      "=== Confusion Matrix ===\n",
      "[[15433   712]\n",
      " [ 1387  1649]]\n",
      "=== Cross Validation Score ===\n",
      "Mean roc_auc Score: 0.82154899934968\n",
      "=== Test Data Score ===\n",
      "Test roc_auc Score: 0.749524269721329\n",
      "\n",
      "\n",
      "Run of Logistic Regression with reduced dataset (class_weight=Balanced)\n",
      "=== Confusion Matrix ===\n",
      "[[15412   733]\n",
      " [ 1357  1679]]\n",
      "=== Cross Validation Score ===\n",
      "Mean roc_auc Score: 0.8216836690904425\n",
      "=== Test Data Score ===\n",
      "Test roc_auc Score: 0.7538146250363655\n",
      "\n",
      "\n",
      "Run of Logistic Regression with reduced dataset (SMOTE)\n",
      "=== Confusion Matrix ===\n",
      "[[15334   811]\n",
      " [ 1350  1686]]\n",
      "=== Cross Validation Score ===\n",
      "Mean roc_auc Score: 0.8212537063363434\n",
      "=== Test Data Score ===\n",
      "Test roc_auc Score: 0.7525518491633995\n",
      "\n",
      "\n",
      "Wall time: 8min 56s\n"
     ]
    }
   ],
   "source": [
    "%%time\n",
    "#Compare balancing techniques  (Logistic Regression)\n",
    "print(df.shape)\n",
    "X_train, X_test, y_train, y_test= train_test_split(X, y,                                                    \n",
    "                                                   test_size=0.25,\n",
    "                                                   random_state=0)\n",
    "sc = StandardScaler()\n",
    "lr = LogisticRegression(random_state = 0, solver='saga',max_iter=5000)\n",
    "\n",
    "######  Run of Logistic Regression with full dataset #####################\n",
    "pipe = make_pipeline(sc, lr)\n",
    "pipe.fit(X_train, y_train)\n",
    "y_pred = pipe.predict(X_test)\n",
    "cv_score = cross_val_score(pipe, X_train, y_train, scoring=scoringType, cv=kf)\n",
    "printClassiferResults('Run of Logistic Regression with full dataset', y_test, y_pred,cv_score,scoringType)\n",
    "\n",
    "######  Run of Logistic Regression with reduced dataset #####################\n",
    "dfLR = pd.read_csv(\"dfLR.csv\", index_col=[0]) \n",
    "print(dfLR.shape)\n",
    "X = dfLR\n",
    "X_train, X_test, y_train, y_test= train_test_split(X, y,                                                    \n",
    "                                                   test_size=0.25,\n",
    "                                                   random_state=0)\n",
    "pipe = make_pipeline(sc, lr)\n",
    "pipe.fit(X_train, y_train)\n",
    "y_pred = pipe.predict(X_test)\n",
    "cv_score = cross_val_score(pipe, X_train, y_train, scoring=scoringType, cv=kf)\n",
    "printClassiferResults('Run of Logistic Regression with reduced dataset', y_test, y_pred,cv_score,scoringType)\n",
    "\n",
    "######  Run of Logistic Regression with oversampling on reduced dataset #####################\n",
    "ros = RandomOverSampler(random_state=0)\n",
    "pipe = make_pipeline(sc, ros, lr)\n",
    "pipe.fit(X_train, y_train)\n",
    "y_pred = pipe.predict(X_test)\n",
    "cv_score = cross_val_score(pipe, X_train, y_train, scoring=scoringType, cv=kf)\n",
    "printClassiferResults('Run of Logistic Regression with reduced dataset (oversample)', y_test, y_pred,cv_score,scoringType)\n",
    "\n",
    "######  Run of Logistic Regression with balanced class weight on reduced dataset #####################\n",
    "lr = LogisticRegression(random_state = 0, solver='saga',class_weight='balanced',max_iter=5000)\n",
    "pipe = make_pipeline(sc, lr)\n",
    "pipe.fit(X_train, y_train)\n",
    "y_pred = pipe.predict(X_test)\n",
    "cv_score = cross_val_score(pipe, X_train, y_train, scoring=scoringType, cv=kf)\n",
    "printClassiferResults('Run of Logistic Regression with reduced dataset (class_weight=Balanced)', y_test, y_pred,cv_score,scoringType)\n",
    "\n",
    "######  Run of Logistic Regression with reduced dataset (SMOTE) #####################\n",
    "lr = LogisticRegression(random_state = 0, solver='saga',max_iter=5000)\n",
    "smt = SMOTE(random_state=0,n_jobs=-1)\n",
    "pipe = make_pipeline(sc,smt, lr)\n",
    "pipe.fit(X_train, y_train)\n",
    "y_pred = pipe.predict(X_test)\n",
    "cv_score = cross_val_score(pipe, X_train, y_train, scoring=scoringType, cv=kf)\n",
    "printClassiferResults('Run of Logistic Regression with reduced dataset (SMOTE)', y_test, y_pred,cv_score,scoringType)"
   ]
  },
  {
   "cell_type": "markdown",
   "metadata": {},
   "source": [
    "### Random Forest Sampling"
   ]
  },
  {
   "cell_type": "code",
   "execution_count": 40,
   "metadata": {},
   "outputs": [
    {
     "name": "stdout",
     "output_type": "stream",
     "text": [
      "(76723, 30)\n",
      "Run of Random Forest with full dataset\n",
      "=== Confusion Matrix ===\n",
      "[[15994   151]\n",
      " [  358  2678]]\n",
      "=== Cross Validation Score ===\n",
      "Mean roc_auc Score: 0.9729381359324483\n",
      "=== Test Data Score ===\n",
      "Test roc_auc Score: 0.9363644728214456\n",
      "\n",
      "\n",
      "(76723, 25)\n",
      "Run of Random Forest with reduced dataset\n",
      "=== Confusion Matrix ===\n",
      "[[15989   156]\n",
      " [  344  2692]]\n",
      "=== Cross Validation Score ===\n",
      "Mean roc_auc Score: 0.9743590696711418\n",
      "=== Test Data Score ===\n",
      "Test roc_auc Score: 0.938515291468824\n",
      "\n",
      "\n",
      "Run of Random Forest with reduced dataset (oversample)\n",
      "=== Confusion Matrix ===\n",
      "[[15953   192]\n",
      " [  272  2764]]\n",
      "=== Cross Validation Score ===\n",
      "Mean roc_auc Score: 0.9730715630906275\n",
      "=== Test Data Score ===\n",
      "Test roc_auc Score: 0.9492581027259955\n",
      "\n",
      "\n",
      "Run of Random Forest with reduced dataset (class_weight=Balanced)\n",
      "=== Confusion Matrix ===\n",
      "[[15982   163]\n",
      " [  306  2730]]\n",
      "=== Cross Validation Score ===\n",
      "Mean roc_auc Score: 0.9730715517121442\n",
      "=== Test Data Score ===\n",
      "Test roc_auc Score: 0.9445567406054567\n",
      "\n",
      "\n",
      "Run of Random Forest with reduced dataset (SMOTE)\n",
      "=== Confusion Matrix ===\n",
      "[[15886   259]\n",
      " [  289  2747]]\n",
      "=== Cross Validation Score ===\n",
      "Mean roc_auc Score: 0.972442811864832\n",
      "=== Test Data Score ===\n",
      "Test roc_auc Score: 0.9443834204269524\n",
      "\n",
      "\n",
      "Wall time: 46.8 s\n"
     ]
    }
   ],
   "source": [
    "%%time\n",
    "#Compare balancing techniques  (Random Forest)\n",
    "print(df.shape)\n",
    "X, y = get_dataset(df)\n",
    "X_train, X_test, y_train, y_test= train_test_split(X, y,                                                    \n",
    "                                                   test_size=0.25,\n",
    "                                                   random_state=0)\n",
    "rf = RandomForestClassifier(random_state=0,n_jobs=-1)\n",
    "\n",
    "######  Run of Random Forest with full dataset #####################\n",
    "rf.fit(X_train, y_train)\n",
    "y_pred = rf.predict(X_test)\n",
    "cv_score = cross_val_score(rf, X_train, y_train, scoring=scoringType, cv=kf)\n",
    "printClassiferResults('Run of Random Forest with full dataset', y_test, y_pred,cv_score,scoringType)\n",
    "\n",
    "######  Run of Random Forest with reduced dataset #####################\n",
    "dfRF = pd.read_csv(\"dfRF.csv\", index_col=[0]) \n",
    "print(dfRF.shape)\n",
    "X = dfRF\n",
    "X_train, X_test, y_train, y_test= train_test_split(X, y,                                                    \n",
    "                                                   test_size=0.25,\n",
    "                                                   random_state=0)\n",
    "rf.fit(X_train, y_train)\n",
    "y_pred = rf.predict(X_test)\n",
    "cv_score = cross_val_score(rf, X_train, y_train, scoring=scoringType, cv=kf)\n",
    "printClassiferResults('Run of Random Forest with reduced dataset', y_test, y_pred,cv_score,scoringType)\n",
    "\n",
    "######  Run of Random Forest with oversampling on reduced dataset #####################\n",
    "ros = RandomOverSampler(random_state=0)\n",
    "pipe = make_pipeline(ros, rf)\n",
    "pipe.fit(X_train, y_train)\n",
    "y_pred = pipe.predict(X_test)\n",
    "cv_score = cross_val_score(pipe, X_train, y_train, scoring=scoringType, cv=kf)\n",
    "printClassiferResults('Run of Random Forest with reduced dataset (oversample)', y_test, y_pred,cv_score,scoringType)\n",
    "\n",
    "######  Run of Random Forest with balanced class weight on reduced dataset #####################\n",
    "rf = RandomForestClassifier(random_state=0, class_weight='balanced',n_jobs=-1)\n",
    "rf.fit(X_train, y_train)\n",
    "y_pred = rf.predict(X_test)\n",
    "cv_score = cross_val_score(pipe, X_train, y_train, scoring=scoringType, cv=kf)\n",
    "printClassiferResults('Run of Random Forest with reduced dataset (class_weight=Balanced)', y_test, y_pred,cv_score,scoringType)\n",
    "\n",
    "######  Run of Random Forest with reduced dataset (SMOTE) #####################\n",
    "rf = RandomForestClassifier(random_state=0,n_jobs=-1)\n",
    "smt = SMOTE(random_state=0,n_jobs=-1)\n",
    "pipe = make_pipeline(smt, rf)\n",
    "pipe.fit(X_train, y_train)\n",
    "y_pred = pipe.predict(X_test)\n",
    "cv_score = cross_val_score(pipe, X_train, y_train, scoring=scoringType, cv=kf)\n",
    "printClassiferResults('Run of Random Forest with reduced dataset (SMOTE)', y_test, y_pred,cv_score,scoringType)\n"
   ]
  },
  {
   "cell_type": "markdown",
   "metadata": {},
   "source": [
    "### K Nearest Neighbours Sampling"
   ]
  },
  {
   "cell_type": "code",
   "execution_count": 41,
   "metadata": {},
   "outputs": [
    {
     "name": "stdout",
     "output_type": "stream",
     "text": [
      "(76723, 30)\n",
      "Run of  K Nearest Neighbours with full dataset\n",
      "=== Confusion Matrix ===\n",
      "[[15265   880]\n",
      " [ 1216  1820]]\n",
      "=== Cross Validation Score ===\n",
      "Mean roc_auc Score: 0.8621189312902633\n",
      "=== Test Data Score ===\n",
      "Test roc_auc Score: 0.7724834758779848\n",
      "\n",
      "\n",
      "(76723, 13)\n",
      "Run of  K Nearest Neighbours with reduced dataset\n",
      "=== Confusion Matrix ===\n",
      "[[15261   884]\n",
      " [ 1218  1818]]\n",
      "=== Cross Validation Score ===\n",
      "Mean roc_auc Score: 0.97102553380403\n",
      "=== Test Data Score ===\n",
      "Test roc_auc Score: 0.7720302177524093\n",
      "\n",
      "\n",
      "Run of K Nearest Neighbours with reduced dataset (oversample)\n",
      "=== Confusion Matrix ===\n",
      "[[13819  2326]\n",
      " [  415  2621]]\n",
      "=== Cross Validation Score ===\n",
      "Mean roc_auc Score: 0.8772137953361245\n",
      "=== Test Data Score ===\n",
      "Test roc_auc Score: 0.8596188057749047\n",
      "\n",
      "\n",
      "Run of  K Nearest Neighbours with reduced dataset (SMOTE)\n",
      "=== Confusion Matrix ===\n",
      "[[13748  2397]\n",
      " [  460  2576]]\n",
      "=== Cross Validation Score ===\n",
      "Mean roc_auc Score: 0.8752854577634397\n",
      "=== Test Data Score ===\n",
      "Test roc_auc Score: 0.8500089154161623\n",
      "\n",
      "\n",
      "Wall time: 19.7 s\n"
     ]
    }
   ],
   "source": [
    "%%time\n",
    "X, y = get_dataset(df)\n",
    "print(df.shape)\n",
    "X_train, X_test, y_train, y_test= train_test_split(X, y,                                                    \n",
    "                                                   test_size=0.25,\n",
    "                                                   random_state=0)\n",
    "knn = KNeighborsClassifier(n_jobs=-1)  \n",
    "######  Run of  K Nearest Neighbours with full dataset #####################\n",
    "knn.fit(X_train, y_train)\n",
    "y_pred = knn.predict(X_test)\n",
    "cv_score = cross_val_score(knn, X_train, y_train, scoring=scoringType, cv=kf)\n",
    "printClassiferResults('Run of  K Nearest Neighbours with full dataset', y_test, y_pred,cv_score,scoringType)\n",
    "\n",
    "######  Run of  K Nearest Neighbours with reduced dataset #####################\n",
    "dfKNN = pd.read_csv(\"dfKNN.csv\", index_col=[0]) \n",
    "X = dfKNN\n",
    "print(dfKNN.shape)\n",
    "X_train, X_test, y_train, y_test= train_test_split(X, y,                                                    \n",
    "                                                   test_size=0.25,\n",
    "                                                   random_state=0)\n",
    "knn.fit(X_train, y_train)\n",
    "y_pred = knn.predict(X_test)\n",
    "cv_score = cross_val_score(pipe, X_train, y_train, scoring=scoringType, cv=kf)\n",
    "printClassiferResults('Run of  K Nearest Neighbours with reduced dataset', y_test, y_pred,cv_score,scoringType)\n",
    "\n",
    "######  Run of  K Nearest Neighbourst with oversampling on reduced dataset #####################\n",
    "ros = RandomOverSampler(random_state=0)\n",
    "pipe = make_pipeline(ros, knn)\n",
    "pipe.fit(X_train, y_train)\n",
    "y_pred = pipe.predict(X_test)\n",
    "cv_score = cross_val_score(pipe, X_train, y_train, scoring=scoringType, cv=kf)\n",
    "printClassiferResults('Run of K Nearest Neighbours with reduced dataset (oversample)', y_test, y_pred,cv_score,scoringType)\n",
    "\n",
    "######  Run of  K Nearest Neighbours with reduced dataset (SMOTE) #####################\n",
    "smt = SMOTE(random_state=0,n_jobs=-1)\n",
    "pipe = make_pipeline(smt, knn)\n",
    "pipe.fit(X_train, y_train)\n",
    "y_pred = pipe.predict(X_test)\n",
    "cv_score = cross_val_score(pipe, X_train, y_train, scoring=scoringType, cv=kf)\n",
    "printClassiferResults('Run of  K Nearest Neighbours with reduced dataset (SMOTE)', y_test, y_pred,cv_score,scoringType)"
   ]
  },
  {
   "cell_type": "markdown",
   "metadata": {},
   "source": [
    "### XGBoost Classifier Sampling"
   ]
  },
  {
   "cell_type": "code",
   "execution_count": 42,
   "metadata": {},
   "outputs": [
    {
     "name": "stdout",
     "output_type": "stream",
     "text": [
      "(76723, 30)\n",
      "Run of XGBoost Classifier with full dataset\n",
      "=== Confusion Matrix ===\n",
      "[[16075    70]\n",
      " [  854  2182]]\n",
      "=== Cross Validation Score ===\n",
      "Mean roc_auc Score: 0.9546710131375498\n",
      "=== Test Data Score ===\n",
      "Test roc_auc Score: 0.8571865598775262\n",
      "\n",
      "\n",
      "(76723, 24)\n",
      "Run of XGBoost Classifier with reduced dataset\n",
      "=== Confusion Matrix ===\n",
      "[[16078    67]\n",
      " [  846  2190]]\n",
      "=== Cross Validation Score ===\n",
      "Mean roc_auc Score: 0.9547389299282756\n",
      "=== Test Data Score ===\n",
      "Test roc_auc Score: 0.858596990955239\n",
      "\n",
      "\n",
      "Run of XGBoost Classifier with reduced dataset (oversample)\n",
      "=== Confusion Matrix ===\n",
      "[[15401   744]\n",
      " [  456  2580]]\n",
      "=== Cross Validation Score ===\n",
      "Mean roc_auc Score: 0.9564295304108196\n",
      "=== Test Data Score ===\n",
      "Test roc_auc Score: 0.9018599965480814\n",
      "\n",
      "\n",
      "Run of XGBoost Classifier with reduced dataset (SMOTE)\n",
      "=== Confusion Matrix ===\n",
      "[[15377   768]\n",
      " [  531  2505]]\n",
      "=== Cross Validation Score ===\n",
      "Mean roc_auc Score: 0.9444231640568994\n",
      "=== Test Data Score ===\n",
      "Test roc_auc Score: 0.8887649537234817\n",
      "\n",
      "\n",
      "Wall time: 44.3 s\n"
     ]
    }
   ],
   "source": [
    "%%time\n",
    "# Compare balancing techniques  ( XGBoost Classifier)\n",
    "X, y = get_dataset(df)\n",
    "print(df.shape)\n",
    "X_train, X_test, y_train, y_test= train_test_split(X, y,                                                    \n",
    "                                                   test_size=0.25,\n",
    "                                                   random_state=0)\n",
    "xgb = XGBClassifier(random_state=0, n_jobs=-1)\n",
    "######  Run of XGBoost Classifier with full dataset #####################\n",
    "xgb.fit(X_train, y_train)\n",
    "y_pred = xgb.predict(X_test)\n",
    "cv_score = cross_val_score(xgb, X_train, y_train, scoring=scoringType, cv=kf)\n",
    "printClassiferResults('Run of XGBoost Classifier with full dataset', y_test, y_pred,cv_score,scoringType)\n",
    "\n",
    "######  Run of XGBoost Classifier with reduced dataset #####################\n",
    "dfXGB = pd.read_csv(\"dfXGB.csv\", index_col=[0]) \n",
    "X = dfXGB\n",
    "print(dfXGB.shape)\n",
    "X_train, X_test, y_train, y_test= train_test_split(X, y,                                                    \n",
    "                                                   test_size=0.25,\n",
    "                                                   random_state=0)\n",
    "xgb.fit(X_train, y_train)\n",
    "y_pred = xgb.predict(X_test)\n",
    "cv_score = cross_val_score(xgb, X_train, y_train, scoring=scoringType, cv=kf)\n",
    "printClassiferResults('Run of XGBoost Classifier with reduced dataset', y_test, y_pred,cv_score,scoringType)\n",
    "\n",
    "######  Run of XGBoost Classifier with oversampling on reduced dataset #####################\n",
    "ros = RandomOverSampler(random_state=0)\n",
    "pipe = make_pipeline(ros, xgb)\n",
    "pipe.fit(X_train, y_train)\n",
    "y_pred = pipe.predict(X_test)\n",
    "cv_score = cross_val_score(pipe, X_train, y_train, scoring=scoringType, cv=kf)\n",
    "printClassiferResults('Run of XGBoost Classifier with reduced dataset (oversample)', y_test, y_pred,cv_score,scoringType)\n",
    "\n",
    "######  Run of XGBoost Classifier with reduced dataset (SMOTE) #####################\n",
    "smt = SMOTE(random_state=0,n_jobs=-1)\n",
    "pipe = make_pipeline(smt, xgb)\n",
    "pipe.fit(X_train, y_train)\n",
    "y_pred = pipe.predict(X_test)\n",
    "cv_score = cross_val_score(pipe, X_train, y_train, scoring=scoringType, cv=kf)\n",
    "printClassiferResults('Run of XGBoost Classifier with reduced dataset (SMOTE)', y_test, y_pred,cv_score,scoringType)\n"
   ]
  },
  {
   "cell_type": "markdown",
   "metadata": {},
   "source": [
    "## Part 5  Fine Tuning Model \n",
    "<div class=\"alert alert-block alert-info\">\n",
    "    Using RandomizedSearchCV to Fine tune models\n",
    "</div>"
   ]
  },
  {
   "cell_type": "markdown",
   "metadata": {},
   "source": [
    "### Logistic Regression Hyperparameter Fine Tuning "
   ]
  },
  {
   "cell_type": "code",
   "execution_count": 78,
   "metadata": {},
   "outputs": [
    {
     "name": "stdout",
     "output_type": "stream",
     "text": [
      "(76723, 21)\n",
      "RandomizedSearchCV done for Logistic Regression........\n",
      "Best Score: 0.821779167370833\n",
      "Best Parameters: {'logisticregression__penalty': 'l2', 'logisticregression__C': 11.513953993264458}\n",
      "Wall time: 5min 48s\n"
     ]
    }
   ],
   "source": [
    "%%time\n",
    "# fine tuning Logistic Regression Model\n",
    "# Read summary data into dataframe\n",
    "dfLR = pd.read_csv(\"dfLR.csv\", index_col=[0]) \n",
    "X = dfLR\n",
    "X_train, X_test, y_train, y_test= train_test_split(X, y,                                                    \n",
    "                                                   test_size=0.25,\n",
    "                                                   random_state=0)\n",
    "print(dfLR.shape)\n",
    "sc = StandardScaler()\n",
    "smt = SMOTE(random_state=0,n_jobs=-1)\n",
    "lr = LogisticRegression(random_state = 0, solver='saga',max_iter=10000)\n",
    "lr2 = LogisticRegression(random_state = 0, solver='saga',max_iter=10000, class_weight='balanced')\n",
    "\n",
    " # Create a dictionary of all the parameter options \n",
    "parameters = dict(logisticregression__C=np.logspace(-4, 4, 50),\n",
    "                  logisticregression__penalty=['l1', 'l2','elasticnet','none'])\n",
    "\n",
    "pipe = make_pipeline(sc, lr2)\n",
    "\n",
    "n_iter_search = 20\n",
    "r_Score = RandomizedSearchCV(pipe, parameters, cv=kf, scoring=scoringType, n_iter=n_iter_search, n_jobs=-1, random_state=0)\n",
    "print('RandomizedSearchCV done for Logistic Regression........')\n",
    "r_Score.fit(X_train, y_train)\n",
    "print(\"Best Score: \" + str(r_Score.best_score_))\n",
    "print(\"Best Parameters: \" + str(r_Score.best_params_))"
   ]
  },
  {
   "cell_type": "markdown",
   "metadata": {},
   "source": [
    "### Random Forest Hyperparameter Fine Tuning "
   ]
  },
  {
   "cell_type": "code",
   "execution_count": 87,
   "metadata": {},
   "outputs": [
    {
     "name": "stdout",
     "output_type": "stream",
     "text": [
      "(76723, 25)\n",
      "RandomizedSearchCV done for Random Forest.........\n",
      "Best Score: 0.9790007335375343\n",
      "Best Parameters: {'randomforestclassifier__n_estimators': 500, 'randomforestclassifier__min_samples_split': 14, 'randomforestclassifier__min_samples_leaf': 8, 'randomforestclassifier__max_features': 'auto', 'randomforestclassifier__max_depth': None, 'randomforestclassifier__criterion': 'entropy', 'randomforestclassifier__bootstrap': False}\n",
      "Wall time: 20min 13s\n"
     ]
    }
   ],
   "source": [
    "%%time\n",
    "# fine tuning Random Forest Model\n",
    "dfRF = pd.read_csv(\"dfRF.csv\", index_col=[0]) \n",
    "X = dfRF\n",
    "X_train, X_test, y_train, y_test= train_test_split(X, y,                                                    \n",
    "                                                   test_size=0.25,\n",
    "                                                   random_state=0)\n",
    "ros = RandomOverSampler(random_state=0)\n",
    "print(dfRF.shape)\n",
    "rf = RandomForestClassifier(random_state=0,n_jobs=-1)\n",
    "parameters = dict(\n",
    "    randomforestclassifier__max_depth=[3, 5, 10, None],\n",
    "    randomforestclassifier__n_estimators=[100, 200, 300, 400, 500],\n",
    "    randomforestclassifier__max_features=['auto', 'sqrt','log2', None],\n",
    "    randomforestclassifier__criterion=[\"gini\", \"entropy\"],\n",
    "    randomforestclassifier__bootstrap=[True, False],\n",
    "    randomforestclassifier__min_samples_leaf=[4, 6, 8, 12],\n",
    "    randomforestclassifier__min_samples_split=[5, 7, 10, 14]\n",
    ")\n",
    "\n",
    "pipe = make_pipeline(ros, rf)\n",
    "\n",
    "n_iter_search = 20\n",
    "r_Score = RandomizedSearchCV(pipe, parameters, cv=kf, scoring=scoringType, n_iter=n_iter_search, n_jobs=-1, random_state=0)\n",
    "print('RandomizedSearchCV done for Random Forest.........')\n",
    "r_Score.fit(X_train, y_train)\n",
    "print(\"Best Score: \" + str(r_Score.best_score_))\n",
    "print(\"Best Parameters: \" + str(r_Score.best_params_))"
   ]
  },
  {
   "cell_type": "markdown",
   "metadata": {},
   "source": [
    "### K Nearest Neighbours Fine Tuning "
   ]
  },
  {
   "cell_type": "code",
   "execution_count": 88,
   "metadata": {},
   "outputs": [
    {
     "name": "stdout",
     "output_type": "stream",
     "text": [
      "(76723, 13)\n",
      "RandomizedSearchCV done for K Nearest Neighbours........\n",
      "Best Score: 0.9543334486112338\n",
      "Best Parameters: {'kneighborsclassifier__weights': 'distance', 'kneighborsclassifier__n_neighbors': 14, 'kneighborsclassifier__leaf_size': 3, 'kneighborsclassifier__algorithm': 'kd_tree'}\n",
      "Wall time: 32min 48s\n"
     ]
    }
   ],
   "source": [
    "%%time\n",
    "# fine tuning K Nearest Neighbours Model\n",
    "dfKNN = pd.read_csv(\"dfKNN.csv\", index_col=[0]) \n",
    "X = dfKNN\n",
    "X_train, X_test, y_train, y_test= train_test_split(X, y,                                                    \n",
    "                                                   test_size=0.25,\n",
    "                                                   random_state=0)\n",
    "sc = StandardScaler()\n",
    "#ros = RandomOverSampler(random_state=0)\n",
    "smt = SMOTE(random_state=0,n_jobs=-1)\n",
    "knn = KNeighborsClassifier(n_jobs=-1)  \n",
    "print(dfKNN.shape)\n",
    " \n",
    "# Create a dictionary of all the parameter options \n",
    "parameters = dict(kneighborsclassifier__n_neighbors=list(range(1, 16)),\n",
    "                  kneighborsclassifier__weights=['uniform', 'distance'],\n",
    "                  kneighborsclassifier__leaf_size=[1,2,3,5],\n",
    "                  kneighborsclassifier__algorithm=['auto', 'ball_tree','kd_tree','brute'])\n",
    "\n",
    "\n",
    "pipe = make_pipeline(sc, ros, knn)\n",
    "#pipeSmt = make_pipeline(sc, smt, knn)\n",
    "\n",
    "n_iter_search = 20\n",
    "r_Score= RandomizedSearchCV(pipe, parameters, cv=kf, scoring=scoringType, n_iter=n_iter_search, n_jobs=-1, random_state=0)\n",
    "print('RandomizedSearchCV done for K Nearest Neighbours........')\n",
    "r_Score.fit(X_train, y_train)\n",
    "print(\"Best Score: \" + str(r_Score.best_score_))\n",
    "print(\"Best Parameters: \" + str(r_Score.best_params_))"
   ]
  },
  {
   "cell_type": "markdown",
   "metadata": {},
   "source": [
    "### XGBoost Classifier Fine Tuning"
   ]
  },
  {
   "cell_type": "code",
   "execution_count": 89,
   "metadata": {},
   "outputs": [
    {
     "name": "stdout",
     "output_type": "stream",
     "text": [
      "(76723, 24)\n",
      "RandomizedSearchCV done for XGBoost........\n",
      "Best Score: 0.9733383794734808\n",
      "Best Parameters: {'xgbclassifier__colsample_bytree': 0.6948953189819347, 'xgbclassifier__learning_rate': 0.09113090404327123, 'xgbclassifier__max_depth': 7, 'xgbclassifier__min_child_weight': 2, 'xgbclassifier__n_estimators': 700, 'xgbclassifier__subsample': 0.5000892494264289}\n",
      "Wall time: 16min 45s\n"
     ]
    }
   ],
   "source": [
    "%%time\n",
    "# fine tuning XGBoost Classifier Model\n",
    "\n",
    "\n",
    "dfXGB = pd.read_csv(\"dfXGB.csv\", index_col=[0]) \n",
    "X = dfXGB\n",
    "print(dfXGB.shape)\n",
    "X_train, X_test, y_train, y_test= train_test_split(X, y,                                                    \n",
    "                                                   test_size=0.25,\n",
    "                                                   random_state=0)\n",
    "\n",
    "ros = RandomOverSampler(random_state=0)\n",
    "xgb = XGBClassifier(random_state=0, n_jobs=-1) \n",
    " \n",
    "# Create a dictionary of all the parameter options \n",
    "parameters = dict(xgbclassifier__n_estimators = randint(150, 1000),\n",
    "              xgbclassifier__learning_rate = uniform(0.01, 0.6),\n",
    "              xgbclassifier__subsample = uniform(0.3, 0.9),\n",
    "              xgbclassifier__max_depth = [3, 4, 5, 6, 7, 8, 9],\n",
    "              xgbclassifier__colsample_bytree = uniform(0.5, 0.9),\n",
    "              xgbclassifier__min_child_weight = [1, 2, 3, 4])\n",
    "\n",
    "pipe = make_pipeline(ros, xgb)\n",
    "\n",
    "n_iter_search = 20\n",
    "r_Score = RandomizedSearchCV(pipe, parameters, cv=kf, scoring=scoringType, n_iter=n_iter_search, n_jobs=-1, random_state=0)\n",
    "print('RandomizedSearchCV done for XGBoost........')\n",
    "r_Score.fit(X_train, y_train)\n",
    "print(\"Best Score: \" + str(r_Score.best_score_))\n",
    "print(\"Best Parameters: \" + str(r_Score.best_params_))"
   ]
  },
  {
   "cell_type": "code",
   "execution_count": null,
   "metadata": {},
   "outputs": [],
   "source": [
    "#https://towardsdatascience.com/machine-learning-classifiers-comparison-with-python-33149aecdbca"
   ]
  },
  {
   "cell_type": "markdown",
   "metadata": {},
   "source": [
    "## Part 6  Evaluation and Comparison of Models\n",
    "<div class=\"alert alert-block alert-info\">\n",
    "    Compare base model with fine tuned model\n",
    "</div>"
   ]
  },
  {
   "cell_type": "code",
   "execution_count": 56,
   "metadata": {},
   "outputs": [],
   "source": [
    "def printClassiferResults(descOfRun, y_test, y_pred, cv_recall, cv_roc_auc, cv_accuracy,cv_precision ):\n",
    "    print(descOfRun)\n",
    "    print(\"=== Cross Validation Score ===\")\n",
    "    print(\"Mean Accuracy Score: \", cv_accuracy.mean())  \n",
    "    print(\"Mean Recall Score: \", cv_recall.mean())    \n",
    "    print(\"Mean Precision Score: \", cv_precision.mean())\n",
    "    print(\"Mean ROC_AUC Score: \", cv_roc_auc.mean())  \n",
    "    \n",
    "    \n",
    "    print(\"=== Test Data Score ===\")   \n",
    "    print(f'Test Accuracy Score: {accuracy_score(y_test, y_pred)}')\n",
    "    print(f'Test Recall Score: {recall_score(y_test, y_pred)}')\n",
    "    print(f'Test Precision Score: {precision_score(y_test, y_pred)}')\n",
    "    print(f'Test ROC_AUC Score: {roc_auc_score(y_test, y_pred)}')\n",
    "    \n",
    "    print('\\n')"
   ]
  },
  {
   "cell_type": "code",
   "execution_count": 166,
   "metadata": {},
   "outputs": [],
   "source": [
    "from mlxtend.plotting import plot_confusion_matrix\n",
    "def printConfusionMatrix(description, y_test, y_pred):\n",
    "    fig, ax = plot_confusion_matrix(conf_mat=confusion_matrix(y_test, y_pred),\n",
    "                                show_absolute=True,\n",
    "                                show_normed=True,\n",
    "                                colorbar=True,\n",
    "                                class_names= ['N', 'Y'],\n",
    "                                figsize=(6, 6))\n",
    "\n",
    "    ax.set_title(description)\n",
    "    plt.show()\n",
    "    "
   ]
  },
  {
   "cell_type": "code",
   "execution_count": 167,
   "metadata": {},
   "outputs": [],
   "source": [
    "df = pd.read_csv(\"df.csv\", index_col=[0]) \n",
    "\n",
    "y = df.QuoteUploaded\n",
    "X = df.drop('QuoteUploaded', axis=1)\n",
    "kf = KFold(n_splits=10, random_state=0, shuffle=True)"
   ]
  },
  {
   "cell_type": "markdown",
   "metadata": {},
   "source": [
    "### Logistic Regression \n",
    "#### Baseline Model "
   ]
  },
  {
   "cell_type": "code",
   "execution_count": 168,
   "metadata": {},
   "outputs": [
    {
     "name": "stdout",
     "output_type": "stream",
     "text": [
      "Baseline Logistic Regression Model\n",
      "=== Cross Validation Score ===\n",
      "Mean Accuracy Score:  0.9226477678656362\n",
      "Mean Recall Score:  0.5069692791596483\n",
      "Mean Precision Score:  1.0\n",
      "Mean ROC_AUC Score:  0.8211299266948539\n",
      "=== Test Data Score ===\n",
      "Test Accuracy Score: 0.9214848026693082\n",
      "Test Recall Score: 0.5039525691699605\n",
      "Test Precision Score: 1.0\n",
      "Test ROC_AUC Score: 0.7519762845849802\n",
      "\n",
      "\n"
     ]
    },
    {
     "data": {
      "image/png": "[encoded data removed]",
      "text/plain": [
       "<Figure size 432x432 with 2 Axes>"
      ]
     },
     "metadata": {},
     "output_type": "display_data"
    },
    {
     "name": "stdout",
     "output_type": "stream",
     "text": [
      "Wall time: 10min 5s\n"
     ]
    }
   ],
   "source": [
    "%%time\n",
    "df = pd.read_csv(\"df.csv\", index_col=[0]) \n",
    "\n",
    "y = df.QuoteUploaded\n",
    "X = df.drop('QuoteUploaded', axis=1)\n",
    "\n",
    "# split data into test/train dataset\n",
    "X_train, X_test, y_train, y_test= train_test_split(X, y,                                                    \n",
    "                                                   test_size=0.25,\n",
    "                                                   random_state=0)\n",
    "# scale data before training model\n",
    "sc = StandardScaler()\n",
    "# logistic regression model with default settings.\n",
    "lrBaseLine = LogisticRegression(random_state = 0, \n",
    "                                solver='saga',\n",
    "                                max_iter=1000)  \n",
    "\n",
    "lrPipeBaseLine = make_pipeline(sc, lrBaseLine)\n",
    "\n",
    "modelBaseLR = lrPipeBaseLine.fit(X_train, y_train)\n",
    "y_pred_BaseLR = modelBaseLR.predict(X_test)\n",
    "y_pred_prob_BaseLR = modelBaseLR.predict_proba(X_test)\n",
    "\n",
    "cv_accuracy = cross_val_score(lrPipeBaseLine, X_train, y_train, scoring='accuracy', cv=kf)\n",
    "cv_recall = cross_val_score(lrPipeBaseLine, X_train, y_train, scoring='recall', cv=kf)\n",
    "cv_precision = cross_val_score(lrPipeBaseLine, X_train, y_train, scoring='precision', cv=kf)\n",
    "cv_roc_auc = cross_val_score(lrPipeBaseLine, X_train, y_train, scoring='roc_auc', cv=kf)\n",
    "\n",
    "printClassiferResults('Baseline Logistic Regression Model', y_test, y_pred_BaseLR, cv_recall,cv_roc_auc,cv_accuracy,cv_precision)\n",
    "\n",
    "printConfusionMatrix('Baseline Logistic Regression Model', y_test, y_pred_BaseLR)\n",
    "\n",
    "# roc and precision recall curves\n",
    "fprbaseLR, tprbaseLR, _ = roc_curve(y_test, y_pred_prob_BaseLR[:,1], pos_label=1)\n",
    "precbaseLR, recallbaseLR, _ = precision_recall_curve(y_test, y_pred_prob_BaseLR[:,1])\n"
   ]
  },
  {
   "cell_type": "markdown",
   "metadata": {},
   "source": [
    "#### Optimum Model "
   ]
  },
  {
   "cell_type": "code",
   "execution_count": 169,
   "metadata": {},
   "outputs": [
    {
     "name": "stdout",
     "output_type": "stream",
     "text": [
      "Optimum Logistic Regression Model\n",
      "=== Cross Validation Score ===\n",
      "Mean Accuracy Score:  0.8918181436583081\n",
      "Mean Recall Score:  0.5526354172782845\n",
      "Mean Precision Score:  0.695801563325959\n",
      "Mean ROC_AUC Score:  0.821779167370833\n",
      "=== Test Data Score ===\n",
      "Test Accuracy Score: 0.8910380063604608\n",
      "Test Recall Score: 0.553030303030303\n",
      "Test Precision Score: 0.6961028192371476\n",
      "Test ROC_AUC Score: 0.7538146250363655\n",
      "\n",
      "\n"
     ]
    },
    {
     "data": {
      "image/png": "[encoded data removed]",
      "text/plain": [
       "<Figure size 432x432 with 2 Axes>"
      ]
     },
     "metadata": {},
     "output_type": "display_data"
    },
    {
     "name": "stdout",
     "output_type": "stream",
     "text": [
      "Wall time: 10min 31s\n"
     ]
    }
   ],
   "source": [
    "%%time\n",
    "dfLR = pd.read_csv(\"dfLR.csv\", index_col=[0]) \n",
    "# use reduced dataset\n",
    "X = dfLR\n",
    "\n",
    "X_train, X_test, y_train, y_test= train_test_split(X, y,                                                    \n",
    "                                                   test_size=0.25,\n",
    "                                                   random_state=0)\n",
    "\n",
    "sc = StandardScaler()\n",
    "#smt = SMOTE(random_state=0,n_jobs=-1)\n",
    "# had to increase max_iter as failed to converge\n",
    "lrOpt = LogisticRegression(random_state = 0, \n",
    "                           penalty = 'l2', \n",
    "                           C=11.513953993264458, \n",
    "                           solver='saga',\n",
    "                           max_iter=10000,\n",
    "                           class_weight='balanced')  \n",
    "\n",
    "#lrPipeOpt = make_pipeline(sc, smt, lrOpt)\n",
    "lrPipeOpt = make_pipeline(sc, lrOpt)\n",
    "\n",
    "modelOptLR = lrPipeOpt.fit(X_train, y_train)\n",
    "y_pred_OptLR = modelOptLR.predict(X_test)\n",
    "y_pred_prob_OptLR = modelOptLR.predict_proba(X_test)\n",
    "\n",
    "cv_accuracy = cross_val_score(lrPipeOpt, X_train, y_train, scoring='accuracy', cv=kf)\n",
    "cv_recall = cross_val_score(lrPipeOpt, X_train, y_train, scoring='recall', cv=kf)\n",
    "cv_precision = cross_val_score(lrPipeOpt, X_train, y_train, scoring='precision', cv=kf)\n",
    "cv_roc_auc = cross_val_score(lrPipeOpt, X_train, y_train, scoring='roc_auc', cv=kf)\n",
    "\n",
    "printClassiferResults('Optimum Logistic Regression Model', y_test, y_pred_OptLR, cv_recall,cv_roc_auc,cv_accuracy,cv_precision)\n",
    "\n",
    "printConfusionMatrix('Optimum Logistic Regression Model', y_test, y_pred_OptLR)\n",
    "\n",
    "# roc and precision recall curves\n",
    "fprOptLR, tprOptLR, _ = roc_curve(y_test, y_pred_prob_OptLR[:,1], pos_label=1)\n",
    "precOptLR, recallOptLR, _ = precision_recall_curve(y_test, y_pred_prob_OptLR[:,1])"
   ]
  },
  {
   "cell_type": "markdown",
   "metadata": {},
   "source": [
    "### Random Forest\n",
    "#### Baseline Model "
   ]
  },
  {
   "cell_type": "code",
   "execution_count": 170,
   "metadata": {},
   "outputs": [
    {
     "name": "stdout",
     "output_type": "stream",
     "text": [
      "Baseline Random Forest Model\n",
      "=== Cross Validation Score ===\n",
      "Mean Accuracy Score:  0.9705432159609739\n",
      "Mean Recall Score:  0.8571487826648176\n",
      "Mean Precision Score:  0.9502655531718771\n",
      "Mean ROC_AUC Score:  0.9764068325122803\n",
      "=== Test Data Score ===\n",
      "Test Accuracy Score: 0.9734633230801314\n",
      "Test Recall Score: 0.8820816864295126\n",
      "Test Precision Score: 0.9466242488511841\n",
      "Test ROC_AUC Score: 0.9363644728214456\n",
      "\n",
      "\n"
     ]
    },
    {
     "data": {
      "image/png": "[encoded data removed]",
      "text/plain": [
       "<Figure size 432x432 with 2 Axes>"
      ]
     },
     "metadata": {},
     "output_type": "display_data"
    },
    {
     "name": "stdout",
     "output_type": "stream",
     "text": [
      "Wall time: 52.1 s\n"
     ]
    }
   ],
   "source": [
    "%%time\n",
    "df = pd.read_csv(\"df.csv\", index_col=[0]) \n",
    "\n",
    "y = df.QuoteUploaded\n",
    "X = df.drop('QuoteUploaded', axis=1)\n",
    "\n",
    "X_train, X_test, y_train, y_test= train_test_split(X, y,                                                    \n",
    "                                                   test_size=0.25,\n",
    "                                                   random_state=0)\n",
    "\n",
    "#random forest base - default parameters\n",
    "rfBaseLine = RandomForestClassifier(random_state=0, \n",
    "                                    n_jobs=-1)                        \n",
    "modelBaseRF = rfBaseLine.fit(X_train, y_train)\n",
    "y_pred_BaseRF = modelBaseRF.predict(X_test)\n",
    "y_pred_prob_BaseRF = modelBaseRF.predict_proba(X_test)\n",
    "\n",
    "cv_accuracy = cross_val_score(rfBaseLine, X_train, y_train, scoring='accuracy', cv=kf)\n",
    "cv_recall = cross_val_score(rfBaseLine, X_train, y_train, scoring='recall', cv=kf)\n",
    "cv_precision = cross_val_score(rfBaseLine, X_train, y_train, scoring='precision', cv=kf)\n",
    "cv_roc_auc = cross_val_score(rfBaseLine, X_train, y_train, scoring='roc_auc', cv=kf)\n",
    "\n",
    "printClassiferResults('Baseline Random Forest Model', y_test, y_pred_BaseRF, cv_recall,cv_roc_auc,cv_accuracy,cv_precision)\n",
    "\n",
    "printConfusionMatrix('Baseline Random Forest Model', y_test, y_pred_BaseRF)\n",
    "\n",
    "# roc and precision recall curves\n",
    "fprbaseRF, tprbaseRF, _ = roc_curve(y_test, y_pred_prob_BaseRF[:,1], pos_label=1)\n",
    "precbaseRF, recallbaseRF, _ = precision_recall_curve(y_test, y_pred_prob_BaseRF[:,1])"
   ]
  },
  {
   "cell_type": "markdown",
   "metadata": {},
   "source": [
    "#### Optimum Model "
   ]
  },
  {
   "cell_type": "code",
   "execution_count": 171,
   "metadata": {},
   "outputs": [
    {
     "name": "stdout",
     "output_type": "stream",
     "text": [
      "Optimum Random Forest Model\n",
      "=== Cross Validation Score ===\n",
      "Mean Accuracy Score:  0.9706301301523483\n",
      "Mean Recall Score:  0.8705158243002831\n",
      "Mean Precision Score:  0.9378930142846116\n",
      "Mean ROC_AUC Score:  0.9790007335375343\n",
      "=== Test Data Score ===\n",
      "Test Accuracy Score: 0.9732026484541995\n",
      "Test Recall Score: 0.8903162055335968\n",
      "Test Precision Score: 0.937239944521498\n",
      "Test ROC_AUC Score: 0.9395526521628962\n",
      "\n",
      "\n"
     ]
    },
    {
     "data": {
      "image/png": "[encoded data removed]",
      "text/plain": [
       "<Figure size 432x432 with 2 Axes>"
      ]
     },
     "metadata": {},
     "output_type": "display_data"
    },
    {
     "name": "stdout",
     "output_type": "stream",
     "text": [
      "Wall time: 7min 12s\n"
     ]
    }
   ],
   "source": [
    "%%time\n",
    "dfRF = pd.read_csv(\"dfRF.csv\", index_col=[0]) \n",
    "X = dfRF\n",
    "X_train, X_test, y_train, y_test= train_test_split(X, y,                                                    \n",
    "                                                   test_size=0.25,\n",
    "                                                   random_state=0)\n",
    "# Oversample data to handle imbalanced dataset\n",
    "ros = RandomOverSampler(random_state=0)\n",
    "# hyper tuned parameters\n",
    "rfOpt = RandomForestClassifier(random_state=0,\n",
    "                               n_jobs=-1,\n",
    "                               n_estimators=500,\n",
    "                               min_samples_split=14,\n",
    "                               min_samples_leaf=8,\n",
    "                               max_features='auto',\n",
    "                               max_depth=None,\n",
    "                               criterion='entropy',\n",
    "                               bootstrap=False\n",
    "                           )\n",
    "\n",
    "pipeOpt = make_pipeline(ros, rfOpt)\n",
    "modelOptRF = pipeOpt.fit(X_train, y_train)\n",
    "y_pred_OptRF = modelOptRF.predict(X_test)\n",
    "y_pred_prob_OptRF = modelOptRF.predict_proba(X_test)\n",
    "\n",
    "cv_accuracy = cross_val_score(pipeOpt, X_train, y_train, scoring='accuracy', cv=kf)\n",
    "cv_recall = cross_val_score(pipeOpt, X_train, y_train, scoring='recall', cv=kf)\n",
    "cv_precision = cross_val_score(pipeOpt, X_train, y_train, scoring='precision', cv=kf)\n",
    "cv_roc_auc = cross_val_score(pipeOpt, X_train, y_train, scoring='roc_auc', cv=kf)\n",
    "\n",
    "\n",
    "printClassiferResults('Optimum Random Forest Model', y_test, y_pred_OptRF, cv_recall,cv_roc_auc,cv_accuracy,cv_precision)\n",
    "\n",
    "printConfusionMatrix('Optimum Random Forest Model', y_test, y_pred_OptRF)\n",
    "\n",
    "# roc and precision recall curves\n",
    "fprOptRF, tprOptRF, _ = roc_curve(y_test, y_pred_prob_OptRF[:,1], pos_label=1)\n",
    "precOptRF, recallOptRF, _ = precision_recall_curve(y_test, y_pred_prob_OptRF[:,1])"
   ]
  },
  {
   "cell_type": "markdown",
   "metadata": {},
   "source": [
    "### K Nearest Neighbour\n",
    "#### Baseline Model "
   ]
  },
  {
   "cell_type": "code",
   "execution_count": 172,
   "metadata": {},
   "outputs": [
    {
     "name": "stdout",
     "output_type": "stream",
     "text": [
      "Baseline K Nearest Neighbour Model\n",
      "=== Cross Validation Score ===\n",
      "Mean Accuracy Score:  0.9383580734227268\n",
      "Mean Recall Score:  0.7505681881388122\n",
      "Mean Precision Score:  0.8393276962934296\n",
      "Mean ROC_AUC Score:  0.9364991211373235\n",
      "=== Test Data Score ===\n",
      "Test Accuracy Score: 0.9414524790156926\n",
      "Test Recall Score: 0.7760210803689065\n",
      "Test Precision Score: 0.8417291889960701\n",
      "Test ROC_AUC Score: 0.874291122408052\n",
      "\n",
      "\n"
     ]
    },
    {
     "data": {
      "image/png": "[encoded data removed]",
      "text/plain": [
       "<Figure size 432x432 with 2 Axes>"
      ]
     },
     "metadata": {},
     "output_type": "display_data"
    },
    {
     "name": "stdout",
     "output_type": "stream",
     "text": [
      "Wall time: 5min 32s\n"
     ]
    }
   ],
   "source": [
    "%%time\n",
    "df = pd.read_csv(\"df.csv\", index_col=[0]) \n",
    "\n",
    "y = df.QuoteUploaded\n",
    "X = df.drop('QuoteUploaded', axis=1)\n",
    "\n",
    "X_train, X_test, y_train, y_test= train_test_split(X, y,                                                    \n",
    "                                                   test_size=0.25,\n",
    "                                                   random_state=0)\n",
    "\n",
    "sc = StandardScaler()\n",
    "knnBaseLine = KNeighborsClassifier(n_jobs=-1)    \n",
    "pipeBaseLine = make_pipeline(sc, knnBaseLine)\n",
    "modelBaseKNN = pipeBaseLine.fit(X_train, y_train)\n",
    "y_pred_BaseKNN = modelBaseKNN.predict(X_test)\n",
    "y_pred_prob_BaseKNN = modelBaseKNN.predict_proba(X_test)\n",
    "\n",
    "cv_accuracy = cross_val_score(pipeBaseLine, X_train, y_train, scoring='accuracy', cv=kf)\n",
    "cv_recall = cross_val_score(pipeBaseLine, X_train, y_train, scoring='recall', cv=kf)\n",
    "cv_precision = cross_val_score(pipeBaseLine, X_train, y_train, scoring='precision', cv=kf)\n",
    "cv_roc_auc = cross_val_score(pipeBaseLine, X_train, y_train, scoring='roc_auc', cv=kf)\n",
    "\n",
    "\n",
    "printClassiferResults('Baseline K Nearest Neighbour Model', y_test, y_pred_BaseKNN, cv_recall,cv_roc_auc,cv_accuracy,cv_precision)\n",
    "\n",
    "printConfusionMatrix('Baseline K Nearest Neighbour Model', y_test, y_pred_BaseKNN)\n",
    "\n",
    "# roc and precision recall curves\n",
    "fprBaseKNN, tprBaseKNN, _ = roc_curve(y_test, y_pred_prob_BaseKNN[:,1], pos_label=1)\n",
    "precBaseKNN, recallBaseKNN, _ = precision_recall_curve(y_test, y_pred_prob_BaseKNN[:,1])"
   ]
  },
  {
   "cell_type": "markdown",
   "metadata": {},
   "source": [
    "#### Optimum Model "
   ]
  },
  {
   "cell_type": "code",
   "execution_count": 173,
   "metadata": {},
   "outputs": [
    {
     "name": "stdout",
     "output_type": "stream",
     "text": [
      "Optimum K Nearest Neighbour Model\n",
      "=== Cross Validation Score ===\n",
      "Mean Accuracy Score:  0.9310242653695824\n",
      "Mean Recall Score:  0.9132833836612919\n",
      "Mean Precision Score:  0.7211003126577831\n",
      "Mean ROC_AUC Score:  0.9364991211373235\n",
      "=== Test Data Score ===\n",
      "Test Accuracy Score: 0.9353526927688859\n",
      "Test Recall Score: 0.932806324110672\n",
      "Test Precision Score: 0.7321613236814891\n",
      "Test ROC_AUC Score: 0.9343189254495756\n",
      "\n",
      "\n"
     ]
    },
    {
     "data": {
      "image/png": "[encoded data removed]",
      "text/plain": [
       "<Figure size 432x432 with 2 Axes>"
      ]
     },
     "metadata": {},
     "output_type": "display_data"
    },
    {
     "name": "stdout",
     "output_type": "stream",
     "text": [
      "Wall time: 9min 33s\n"
     ]
    }
   ],
   "source": [
    "%%time\n",
    "dfKNN = pd.read_csv(\"dfKNN.csv\", index_col=[0]) \n",
    "X = dfKNN\n",
    "X_train, X_test, y_train, y_test= train_test_split(X, y,                                                    \n",
    "                                                   test_size=0.25,\n",
    "                                                   random_state=0)\n",
    "# Oversample data to handle imbalanced dataset\n",
    "sc = StandardScaler()\n",
    "ros = RandomOverSampler(random_state=0)\n",
    "#smt = SMOTE(random_state=0,n_jobs=-1)\n",
    "# hyper tuned parameters\n",
    "knnOpt = KNeighborsClassifier(n_jobs=-1,\n",
    "                             weights='distance',\n",
    "                             n_neighbors=14,\n",
    "                             leaf_size=3,\n",
    "                             algorithm='kd_tree'                            \n",
    "                           )\n",
    "\n",
    "pipeOpt = make_pipeline(sc, ros, knnOpt)\n",
    "#pipeOpt = make_pipeline(sc, smt, knnOpt)\n",
    "modelOptKNN = pipeOpt.fit(X_train, y_train)\n",
    "y_pred_OptKNN = modelOptKNN.predict(X_test)\n",
    "y_pred_prob_OptKNN = modelOptKNN.predict_proba(X_test)\n",
    "\n",
    "cv_accuracy = cross_val_score(pipeOpt, X_train, y_train, scoring='accuracy', cv=kf)\n",
    "cv_recall = cross_val_score(pipeOpt, X_train, y_train, scoring='recall', cv=kf)\n",
    "cv_precision = cross_val_score(pipeOpt, X_train, y_train, scoring='precision', cv=kf)\n",
    "cv_accuracy = cross_val_score(pipeOpt, X_train, y_train, scoring='accuracy', cv=kf)\n",
    "\n",
    "printClassiferResults('Optimum K Nearest Neighbour Model', y_test, y_pred_OptKNN, cv_recall,cv_roc_auc,cv_accuracy,cv_precision)\n",
    "\n",
    "printConfusionMatrix('Optimum K Nearest Neighbour Model', y_test, y_pred_OptKNN)\n",
    "\n",
    "# roc and precision recall curves\n",
    "fprOptKNN, tprOptKNN, _ = roc_curve(y_test, y_pred_prob_OptKNN[:,1], pos_label=1)\n",
    "precOptKNN, recallOptKNN, _ = precision_recall_curve(y_test, y_pred_prob_OptKNN[:,1])\n"
   ]
  },
  {
   "cell_type": "markdown",
   "metadata": {},
   "source": [
    "### XGBoost Classifier\n",
    "#### Baseline Model "
   ]
  },
  {
   "cell_type": "code",
   "execution_count": 174,
   "metadata": {},
   "outputs": [
    {
     "name": "stdout",
     "output_type": "stream",
     "text": [
      "Baseline XGBoost Classifier\n",
      "=== Cross Validation Score ===\n",
      "Mean Accuracy Score:  0.9498800517118452\n",
      "Mean Recall Score:  0.7020670049462974\n",
      "Mean Precision Score:  0.9704410781097549\n",
      "Mean ROC_AUC Score:  0.9573063459784097\n",
      "=== Test Data Score ===\n",
      "Test Accuracy Score: 0.9518273291277827\n",
      "Test Recall Score: 0.7187088274044796\n",
      "Test Precision Score: 0.9689165186500888\n",
      "Test ROC_AUC Score: 0.8571865598775262\n",
      "\n",
      "\n"
     ]
    },
    {
     "data": {
      "image/png": "[encoded data removed]",
      "text/plain": [
       "<Figure size 432x432 with 2 Axes>"
      ]
     },
     "metadata": {},
     "output_type": "display_data"
    },
    {
     "name": "stdout",
     "output_type": "stream",
     "text": [
      "Wall time: 1min 10s\n"
     ]
    }
   ],
   "source": [
    "%%time\n",
    "\n",
    "df = pd.read_csv(\"df.csv\", index_col=[0]) \n",
    "\n",
    "y = df.QuoteUploaded\n",
    "X = df.drop('QuoteUploaded', axis=1)\n",
    "\n",
    "X_train, X_test, y_train, y_test= train_test_split(X, y,                                                    \n",
    "                                                   test_size=0.25,\n",
    "                                                   random_state=0)\n",
    "\n",
    "xgbBaseLine = XGBClassifier(random_state=0, n_jobs=-1)   \n",
    "modelBaseXGB = xgbBaseLine.fit(X_train, y_train)\n",
    "y_pred_BaseXGB = modelBaseXGB.predict(X_test)\n",
    "y_pred_prob_BaseXGB = modelBaseXGB.predict_proba(X_test)\n",
    "\n",
    "cv_accuracy = cross_val_score(xgbBaseLine, X_train, y_train, scoring='accuracy', cv=kf)\n",
    "cv_recall = cross_val_score(xgbBaseLine, X_train, y_train, scoring='recall', cv=kf)\n",
    "cv_precision = cross_val_score(xgbBaseLine, X_train, y_train, scoring='precision', cv=kf)\n",
    "cv_roc_auc = cross_val_score(xgbBaseLine, X_train, y_train, scoring='roc_auc', cv=kf)\n",
    "\n",
    "\n",
    "printClassiferResults('Baseline XGBoost Classifier', y_test, y_pred_BaseXGB, cv_recall,cv_roc_auc,cv_accuracy,cv_precision)\n",
    "\n",
    "printConfusionMatrix('Baseline XGBoost Classifier', y_test, y_pred_BaseXGB)\n",
    "\n",
    "# roc and precision recall curves\n",
    "fprBaseXGB, tprBaseXGB, _ = roc_curve(y_test, y_pred_prob_BaseXGB[:,1], pos_label=1)\n",
    "precBaseXGB, recallBaseXGB, _ = precision_recall_curve(y_test, y_pred_prob_BaseXGB[:,1])\n"
   ]
  },
  {
   "cell_type": "markdown",
   "metadata": {},
   "source": [
    "#### Optimum Model "
   ]
  },
  {
   "cell_type": "code",
   "execution_count": 175,
   "metadata": {},
   "outputs": [
    {
     "name": "stdout",
     "output_type": "stream",
     "text": [
      "Optimum XGBoost Classifier Model\n",
      "=== Cross Validation Score ===\n",
      "Mean Accuracy Score:  0.9650689627160739\n",
      "Mean Recall Score:  0.8199811379702229\n",
      "Mean Precision Score:  0.9506672033543705\n",
      "Mean ROC_AUC Score:  0.9708944472400802\n",
      "=== Test Data Score ===\n",
      "Test Accuracy Score: 0.9655909493769876\n",
      "Test Recall Score: 0.8274044795783926\n",
      "Test Precision Score: 0.9486404833836858\n",
      "Test ROC_AUC Score: 0.9094904095011814\n",
      "\n",
      "\n"
     ]
    },
    {
     "data": {
      "image/png": "[encoded data removed]",
      "text/plain": [
       "<Figure size 432x432 with 2 Axes>"
      ]
     },
     "metadata": {},
     "output_type": "display_data"
    },
    {
     "name": "stdout",
     "output_type": "stream",
     "text": [
      "Wall time: 8min 2s\n"
     ]
    }
   ],
   "source": [
    "%%time\n",
    "dfXGB = pd.read_csv(\"dfXGB.csv\", index_col=[0]) \n",
    "X = dfXGB\n",
    "X_train, X_test, y_train, y_test= train_test_split(X, y,                                                    \n",
    "                                                   test_size=0.25,\n",
    "                                                   random_state=0)\n",
    "ros = RandomOverSampler(random_state=0)\n",
    "# hyper tuned parameters\n",
    "xgbOpt = XGBClassifier(random_state=0, \n",
    "                       n_jobs=-1, \n",
    "                       colsample_bytree=0.6948953189819347, \n",
    "                       learning_rate=0.09113090404327123,\n",
    "                       max_depth=7,\n",
    "                       min_child_weight=2,\n",
    "                       n_estimators=700,\n",
    "                       subsample=0.5000892494264289)   \n",
    "\n",
    "#pipeOpt = make_pipeline(ros, xgbOpt)\n",
    "pipeOpt = xgbOpt\n",
    "modelOptXGB = pipeOpt.fit(X_train, y_train)\n",
    "y_pred_OptXGB = modelOptXGB.predict(X_test)\n",
    "y_pred_prob_OptXGB = modelOptXGB.predict_proba(X_test)\n",
    "\n",
    "cv_accuracy = cross_val_score(pipeOpt, X_train, y_train, scoring='accuracy', cv=kf)\n",
    "cv_recall = cross_val_score(pipeOpt, X_train, y_train, scoring='recall', cv=kf)\n",
    "cv_precision = cross_val_score(pipeOpt, X_train, y_train, scoring='precision', cv=kf)\n",
    "cv_roc_auc = cross_val_score(pipeOpt, X_train, y_train, scoring='roc_auc', cv=kf)\n",
    "\n",
    "\n",
    "printClassiferResults('Optimum XGBoost Classifier Model', y_test, y_pred_OptXGB, cv_recall,cv_roc_auc,cv_accuracy,cv_precision)\n",
    "\n",
    "printConfusionMatrix('Optimum XGBoost Classifier Model', y_test, y_pred_OptXGB)\n",
    "\n",
    "# roc and precision recall curves\n",
    "fprOptXGB, tprOptXGB, _ = roc_curve(y_test, y_pred_prob_OptXGB[:,1], pos_label=1)\n",
    "precOptXGB, recallOptXGB, _ = precision_recall_curve(y_test, y_pred_prob_OptXGB[:,1])"
   ]
  },
  {
   "cell_type": "code",
   "execution_count": 94,
   "metadata": {},
   "outputs": [
    {
     "data": {
      "image/png": "[encoded data removed]",
      "text/plain": [
       "<Figure size 432x288 with 1 Axes>"
      ]
     },
     "metadata": {},
     "output_type": "display_data"
    }
   ],
   "source": [
    "# source:  https://machinelearningmastery.com/roc-curves-and-precision-recall-curves-for-classification-in-python/\n",
    "# plot roc curves\n",
    "plt.plot(fprbaseLR, tprbaseLR, linestyle='--',color='orange', label='Logistic Regression Base')\n",
    "plt.plot(fprbaseRF, tprbaseRF, linestyle='--',color='red', label='Random Forest Base')\n",
    "plt.plot(fprBaseKNN, tprBaseKNN, linestyle='--',color='green', label='K Nearest Neighbours Base')\n",
    "plt.plot(fprBaseXGB, tprBaseXGB, linestyle='--',color='blue', label='XGBoost Base')\n",
    "\n",
    "# title\n",
    "plt.title('ROC Curve Base Models')\n",
    "# x label\n",
    "plt.xlabel('False Positive Rate')\n",
    "# y label\n",
    "plt.ylabel('True Positive rate')\n",
    "\n",
    "plt.legend(loc='best')\n",
    "plt.savefig('ROC_Base',dpi=300)\n",
    "plt.show();"
   ]
  },
  {
   "cell_type": "code",
   "execution_count": 95,
   "metadata": {},
   "outputs": [
    {
     "data": {
      "image/png": "[encoded data removed]",
      "text/plain": [
       "<Figure size 432x288 with 1 Axes>"
      ]
     },
     "metadata": {},
     "output_type": "display_data"
    }
   ],
   "source": [
    "# Opt Curves (ROC)\n",
    "# plot roc curves\n",
    "plt.plot(fprOptLR, tprOptLR, linestyle='--',color='orange', label='Logistic Regression Optimum')\n",
    "plt.plot(fprOptRF, tprOptRF, linestyle='--',color='red', label='Random Forest Optimum')\n",
    "plt.plot(fprOptKNN, tprOptKNN, linestyle='--',color='green', label='K Nearest Neighbours Optimum')\n",
    "plt.plot(fprOptXGB, tprOptXGB, linestyle='--',color='blue', label='XGBoost Optimum')\n",
    "\n",
    "#plt.plot(p_fpr, p_tpr, linestyle='--', color='blue')\n",
    "# title\n",
    "plt.title('ROC Curve Optimum Models')\n",
    "# x label\n",
    "plt.xlabel('False Positive Rate')\n",
    "# y label\n",
    "plt.ylabel('True Positive rate')\n",
    "\n",
    "plt.legend(loc='best')\n",
    "plt.savefig('ROC_Opt',dpi=300)\n",
    "plt.show();"
   ]
  },
  {
   "cell_type": "code",
   "execution_count": 96,
   "metadata": {},
   "outputs": [
    {
     "data": {
      "image/png": "[encoded data removed]",
      "text/plain": [
       "<Figure size 432x288 with 1 Axes>"
      ]
     },
     "metadata": {},
     "output_type": "display_data"
    }
   ],
   "source": [
    "# Precision-Recall Curves - Base\n",
    "# plot roc curves\n",
    "plt.plot(recallbaseLR, precbaseLR, linestyle='--',color='orange', label='Logistic Regression Base')\n",
    "plt.plot(recallbaseRF, precbaseRF, linestyle='--',color='red', label='Random Forest Base')\n",
    "plt.plot(recallBaseKNN, precBaseKNN, linestyle='--',color='green', label='K Nearest Neighbours Base')\n",
    "plt.plot(recallBaseXGB, precBaseXGB, linestyle='--',color='blue', label='XGBoost Base')\n",
    "\n",
    "# title\n",
    "plt.title('Precision-Recall Curve Base Models')\n",
    "# x label\n",
    "plt.xlabel('Recall')\n",
    "# y label\n",
    "plt.ylabel('Precision')\n",
    "\n",
    "plt.legend(loc='best')\n",
    "plt.savefig('RecallPrecision_Base',dpi=300)\n",
    "plt.show();"
   ]
  },
  {
   "cell_type": "code",
   "execution_count": 176,
   "metadata": {},
   "outputs": [
    {
     "data": {
      "image/png": "[encoded data removed]",
      "text/plain": [
       "<Figure size 432x288 with 1 Axes>"
      ]
     },
     "metadata": {},
     "output_type": "display_data"
    }
   ],
   "source": [
    "# Precision-Recall Curves - Optimum\n",
    "# plot roc curves\n",
    "plt.plot(recallOptLR, precOptLR, linestyle='--',color='orange', label='Logistic Regression Optimum')\n",
    "plt.plot(recallOptRF, precOptRF, linestyle='--',color='red', label='Random Forest Optimum')\n",
    "plt.plot(recallOptKNN, precOptKNN, linestyle='--',color='green', label='K Nearest Neighbours Optimum')\n",
    "plt.plot(recallOptXGB, precOptXGB, linestyle='--',color='blue', label='XGBoost Optimum')\n",
    "\n",
    "# title\n",
    "plt.title('Precision-Recall Curve Optimum Models')\n",
    "# x label\n",
    "plt.xlabel('Recall')\n",
    "# y label\n",
    "plt.ylabel('Precision')\n",
    "\n",
    "plt.legend(loc='best')\n",
    "plt.savefig('RecallPrecision_Opt',dpi=300)\n",
    "plt.show();"
   ]
  },
  {
   "cell_type": "code",
   "execution_count": null,
   "metadata": {},
   "outputs": [],
   "source": []
  }
 ],
 "metadata": {
  "kernelspec": {
   "display_name": "Python 3",
   "language": "python",
   "name": "python3"
  },
  "language_info": {
   "codemirror_mode": {
    "name": "ipython",
    "version": 3
   },
   "file_extension": ".py",
   "mimetype": "text/x-python",
   "name": "python",
   "nbconvert_exporter": "python",
   "pygments_lexer": "ipython3",
   "version": "3.7.6"
  }
 },
 "nbformat": 4,
 "nbformat_minor": 4
}
